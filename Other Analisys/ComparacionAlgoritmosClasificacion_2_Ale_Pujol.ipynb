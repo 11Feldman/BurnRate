{
  "cells": [
    {
      "cell_type": "markdown",
      "metadata": {
        "id": "fjUoLj0itkYc"
      },
      "source": [
        "# Comparacion de rendimiento de algoritmos de clasificacion para nuestro dataset de Burn Rate.\n",
        "\n",
        "### *Logistic Regression vs Random Forest vs Decision Tree*"
      ]
    },
    {
      "cell_type": "markdown",
      "metadata": {
        "id": "VIdVZpUph4TG"
      },
      "source": [
        "#### Importacion de librerias"
      ]
    },
    {
      "cell_type": "code",
      "execution_count": 1,
      "metadata": {
        "id": "fjGUPv1vhzbD"
      },
      "outputs": [],
      "source": [
        "# importar librerias\n",
        "import pandas as pd\n",
        "import matplotlib.pyplot as plt\n",
        "import seaborn as sns\n",
        "from sklearn.ensemble import RandomForestClassifier\n",
        "from sklearn.linear_model import LogisticRegression\n",
        "from sklearn.tree import DecisionTreeClassifier\n",
        "from sklearn.preprocessing import OneHotEncoder\n",
        "from sklearn.model_selection import train_test_split\n",
        "from sklearn.metrics import r2_score,accuracy_score,confusion_matrix,classification_report,plot_confusion_matrix\n",
        "import warnings\n",
        "warnings.filterwarnings('ignore')"
      ]
    },
    {
      "cell_type": "code",
      "execution_count": 12,
      "metadata": {
        "id": "sRLTnUWPhzbF"
      },
      "outputs": [],
      "source": [
        "# importar dataset\n",
        "df = pd.read_csv('train.csv',sep=';')"
      ]
    },
    {
      "cell_type": "code",
      "execution_count": 3,
      "metadata": {
        "colab": {
          "base_uri": "https://localhost:8080/"
        },
        "id": "7YBjK8batkYf",
        "outputId": "bc467b27-8815-4684-f456-599341eb4d4a"
      },
      "outputs": [
        {
          "output_type": "execute_result",
          "data": {
            "text/plain": [
              "Index(['Employee ID;Date of Joining;Gender;Company Type;WFH Setup Available;Designation;Resource Allocation;Mental Fatigue Score;Burn Rate'], dtype='object')"
            ]
          },
          "metadata": {},
          "execution_count": 3
        }
      ],
      "source": [
        "# Nombres columnas\n",
        "df.columns"
      ]
    },
    {
      "cell_type": "code",
      "source": [
        "df"
      ],
      "metadata": {
        "colab": {
          "base_uri": "https://localhost:8080/",
          "height": 467
        },
        "id": "bvjj9uPXucLM",
        "outputId": "afac3179-ac60-4db2-cba9-5a734e6d2177"
      },
      "execution_count": 13,
      "outputs": [
        {
          "output_type": "execute_result",
          "data": {
            "text/plain": [
              "                    Employee ID Date of Joining  Gender Company Type  \\\n",
              "0      fffe32003000360033003200       30/9/2008  Female      Service   \n",
              "1          fffe3700360033003500      30/11/2008    Male      Service   \n",
              "2      fffe31003300320037003900       10/3/2008  Female      Product   \n",
              "3      fffe32003400380032003900       3/11/2008    Male      Service   \n",
              "4      fffe31003900340031003600       24/7/2008  Female      Service   \n",
              "...                         ...             ...     ...          ...   \n",
              "22745  fffe31003500370039003100      30/12/2008  Female      Service   \n",
              "22746  fffe33003000350031003800       19/1/2008  Female      Product   \n",
              "22747          fffe390032003000       5/11/2008    Male      Service   \n",
              "22748  fffe33003300320036003900       10/1/2008  Female      Service   \n",
              "22749      fffe3400350031003800        6/1/2008    Male      Product   \n",
              "\n",
              "      WFH Setup Available  Designation  Resource Allocation  \\\n",
              "0                      No          2.0                  3.0   \n",
              "1                     Yes          1.0                  2.0   \n",
              "2                     Yes          2.0                  NaN   \n",
              "3                     Yes          1.0                  1.0   \n",
              "4                      No          3.0                  7.0   \n",
              "...                   ...          ...                  ...   \n",
              "22745                  No          1.0                  3.0   \n",
              "22746                 Yes          3.0                  6.0   \n",
              "22747                 Yes          3.0                  7.0   \n",
              "22748                  No          2.0                  5.0   \n",
              "22749                  No          3.0                  6.0   \n",
              "\n",
              "       Mental Fatigue Score  Burn Rate  \n",
              "0                       3.8       0.16  \n",
              "1                       5.0       0.36  \n",
              "2                       5.8       0.49  \n",
              "3                       2.6       0.20  \n",
              "4                       6.9       0.52  \n",
              "...                     ...        ...  \n",
              "22745                   NaN       0.41  \n",
              "22746                   6.7       0.59  \n",
              "22747                   NaN       0.72  \n",
              "22748                   5.9       0.52  \n",
              "22749                   7.8       0.61  \n",
              "\n",
              "[22750 rows x 9 columns]"
            ],
            "text/html": [
              "\n",
              "  <div id=\"df-44217266-c76b-41a2-a960-53b0bd67670d\">\n",
              "    <div class=\"colab-df-container\">\n",
              "      <div>\n",
              "<style scoped>\n",
              "    .dataframe tbody tr th:only-of-type {\n",
              "        vertical-align: middle;\n",
              "    }\n",
              "\n",
              "    .dataframe tbody tr th {\n",
              "        vertical-align: top;\n",
              "    }\n",
              "\n",
              "    .dataframe thead th {\n",
              "        text-align: right;\n",
              "    }\n",
              "</style>\n",
              "<table border=\"1\" class=\"dataframe\">\n",
              "  <thead>\n",
              "    <tr style=\"text-align: right;\">\n",
              "      <th></th>\n",
              "      <th>Employee ID</th>\n",
              "      <th>Date of Joining</th>\n",
              "      <th>Gender</th>\n",
              "      <th>Company Type</th>\n",
              "      <th>WFH Setup Available</th>\n",
              "      <th>Designation</th>\n",
              "      <th>Resource Allocation</th>\n",
              "      <th>Mental Fatigue Score</th>\n",
              "      <th>Burn Rate</th>\n",
              "    </tr>\n",
              "  </thead>\n",
              "  <tbody>\n",
              "    <tr>\n",
              "      <th>0</th>\n",
              "      <td>fffe32003000360033003200</td>\n",
              "      <td>30/9/2008</td>\n",
              "      <td>Female</td>\n",
              "      <td>Service</td>\n",
              "      <td>No</td>\n",
              "      <td>2.0</td>\n",
              "      <td>3.0</td>\n",
              "      <td>3.8</td>\n",
              "      <td>0.16</td>\n",
              "    </tr>\n",
              "    <tr>\n",
              "      <th>1</th>\n",
              "      <td>fffe3700360033003500</td>\n",
              "      <td>30/11/2008</td>\n",
              "      <td>Male</td>\n",
              "      <td>Service</td>\n",
              "      <td>Yes</td>\n",
              "      <td>1.0</td>\n",
              "      <td>2.0</td>\n",
              "      <td>5.0</td>\n",
              "      <td>0.36</td>\n",
              "    </tr>\n",
              "    <tr>\n",
              "      <th>2</th>\n",
              "      <td>fffe31003300320037003900</td>\n",
              "      <td>10/3/2008</td>\n",
              "      <td>Female</td>\n",
              "      <td>Product</td>\n",
              "      <td>Yes</td>\n",
              "      <td>2.0</td>\n",
              "      <td>NaN</td>\n",
              "      <td>5.8</td>\n",
              "      <td>0.49</td>\n",
              "    </tr>\n",
              "    <tr>\n",
              "      <th>3</th>\n",
              "      <td>fffe32003400380032003900</td>\n",
              "      <td>3/11/2008</td>\n",
              "      <td>Male</td>\n",
              "      <td>Service</td>\n",
              "      <td>Yes</td>\n",
              "      <td>1.0</td>\n",
              "      <td>1.0</td>\n",
              "      <td>2.6</td>\n",
              "      <td>0.20</td>\n",
              "    </tr>\n",
              "    <tr>\n",
              "      <th>4</th>\n",
              "      <td>fffe31003900340031003600</td>\n",
              "      <td>24/7/2008</td>\n",
              "      <td>Female</td>\n",
              "      <td>Service</td>\n",
              "      <td>No</td>\n",
              "      <td>3.0</td>\n",
              "      <td>7.0</td>\n",
              "      <td>6.9</td>\n",
              "      <td>0.52</td>\n",
              "    </tr>\n",
              "    <tr>\n",
              "      <th>...</th>\n",
              "      <td>...</td>\n",
              "      <td>...</td>\n",
              "      <td>...</td>\n",
              "      <td>...</td>\n",
              "      <td>...</td>\n",
              "      <td>...</td>\n",
              "      <td>...</td>\n",
              "      <td>...</td>\n",
              "      <td>...</td>\n",
              "    </tr>\n",
              "    <tr>\n",
              "      <th>22745</th>\n",
              "      <td>fffe31003500370039003100</td>\n",
              "      <td>30/12/2008</td>\n",
              "      <td>Female</td>\n",
              "      <td>Service</td>\n",
              "      <td>No</td>\n",
              "      <td>1.0</td>\n",
              "      <td>3.0</td>\n",
              "      <td>NaN</td>\n",
              "      <td>0.41</td>\n",
              "    </tr>\n",
              "    <tr>\n",
              "      <th>22746</th>\n",
              "      <td>fffe33003000350031003800</td>\n",
              "      <td>19/1/2008</td>\n",
              "      <td>Female</td>\n",
              "      <td>Product</td>\n",
              "      <td>Yes</td>\n",
              "      <td>3.0</td>\n",
              "      <td>6.0</td>\n",
              "      <td>6.7</td>\n",
              "      <td>0.59</td>\n",
              "    </tr>\n",
              "    <tr>\n",
              "      <th>22747</th>\n",
              "      <td>fffe390032003000</td>\n",
              "      <td>5/11/2008</td>\n",
              "      <td>Male</td>\n",
              "      <td>Service</td>\n",
              "      <td>Yes</td>\n",
              "      <td>3.0</td>\n",
              "      <td>7.0</td>\n",
              "      <td>NaN</td>\n",
              "      <td>0.72</td>\n",
              "    </tr>\n",
              "    <tr>\n",
              "      <th>22748</th>\n",
              "      <td>fffe33003300320036003900</td>\n",
              "      <td>10/1/2008</td>\n",
              "      <td>Female</td>\n",
              "      <td>Service</td>\n",
              "      <td>No</td>\n",
              "      <td>2.0</td>\n",
              "      <td>5.0</td>\n",
              "      <td>5.9</td>\n",
              "      <td>0.52</td>\n",
              "    </tr>\n",
              "    <tr>\n",
              "      <th>22749</th>\n",
              "      <td>fffe3400350031003800</td>\n",
              "      <td>6/1/2008</td>\n",
              "      <td>Male</td>\n",
              "      <td>Product</td>\n",
              "      <td>No</td>\n",
              "      <td>3.0</td>\n",
              "      <td>6.0</td>\n",
              "      <td>7.8</td>\n",
              "      <td>0.61</td>\n",
              "    </tr>\n",
              "  </tbody>\n",
              "</table>\n",
              "<p>22750 rows × 9 columns</p>\n",
              "</div>\n",
              "      <button class=\"colab-df-convert\" onclick=\"convertToInteractive('df-44217266-c76b-41a2-a960-53b0bd67670d')\"\n",
              "              title=\"Convert this dataframe to an interactive table.\"\n",
              "              style=\"display:none;\">\n",
              "        \n",
              "  <svg xmlns=\"http://www.w3.org/2000/svg\" height=\"24px\"viewBox=\"0 0 24 24\"\n",
              "       width=\"24px\">\n",
              "    <path d=\"M0 0h24v24H0V0z\" fill=\"none\"/>\n",
              "    <path d=\"M18.56 5.44l.94 2.06.94-2.06 2.06-.94-2.06-.94-.94-2.06-.94 2.06-2.06.94zm-11 1L8.5 8.5l.94-2.06 2.06-.94-2.06-.94L8.5 2.5l-.94 2.06-2.06.94zm10 10l.94 2.06.94-2.06 2.06-.94-2.06-.94-.94-2.06-.94 2.06-2.06.94z\"/><path d=\"M17.41 7.96l-1.37-1.37c-.4-.4-.92-.59-1.43-.59-.52 0-1.04.2-1.43.59L10.3 9.45l-7.72 7.72c-.78.78-.78 2.05 0 2.83L4 21.41c.39.39.9.59 1.41.59.51 0 1.02-.2 1.41-.59l7.78-7.78 2.81-2.81c.8-.78.8-2.07 0-2.86zM5.41 20L4 18.59l7.72-7.72 1.47 1.35L5.41 20z\"/>\n",
              "  </svg>\n",
              "      </button>\n",
              "      \n",
              "  <style>\n",
              "    .colab-df-container {\n",
              "      display:flex;\n",
              "      flex-wrap:wrap;\n",
              "      gap: 12px;\n",
              "    }\n",
              "\n",
              "    .colab-df-convert {\n",
              "      background-color: #E8F0FE;\n",
              "      border: none;\n",
              "      border-radius: 50%;\n",
              "      cursor: pointer;\n",
              "      display: none;\n",
              "      fill: #1967D2;\n",
              "      height: 32px;\n",
              "      padding: 0 0 0 0;\n",
              "      width: 32px;\n",
              "    }\n",
              "\n",
              "    .colab-df-convert:hover {\n",
              "      background-color: #E2EBFA;\n",
              "      box-shadow: 0px 1px 2px rgba(60, 64, 67, 0.3), 0px 1px 3px 1px rgba(60, 64, 67, 0.15);\n",
              "      fill: #174EA6;\n",
              "    }\n",
              "\n",
              "    [theme=dark] .colab-df-convert {\n",
              "      background-color: #3B4455;\n",
              "      fill: #D2E3FC;\n",
              "    }\n",
              "\n",
              "    [theme=dark] .colab-df-convert:hover {\n",
              "      background-color: #434B5C;\n",
              "      box-shadow: 0px 1px 3px 1px rgba(0, 0, 0, 0.15);\n",
              "      filter: drop-shadow(0px 1px 2px rgba(0, 0, 0, 0.3));\n",
              "      fill: #FFFFFF;\n",
              "    }\n",
              "  </style>\n",
              "\n",
              "      <script>\n",
              "        const buttonEl =\n",
              "          document.querySelector('#df-44217266-c76b-41a2-a960-53b0bd67670d button.colab-df-convert');\n",
              "        buttonEl.style.display =\n",
              "          google.colab.kernel.accessAllowed ? 'block' : 'none';\n",
              "\n",
              "        async function convertToInteractive(key) {\n",
              "          const element = document.querySelector('#df-44217266-c76b-41a2-a960-53b0bd67670d');\n",
              "          const dataTable =\n",
              "            await google.colab.kernel.invokeFunction('convertToInteractive',\n",
              "                                                     [key], {});\n",
              "          if (!dataTable) return;\n",
              "\n",
              "          const docLinkHtml = 'Like what you see? Visit the ' +\n",
              "            '<a target=\"_blank\" href=https://colab.research.google.com/notebooks/data_table.ipynb>data table notebook</a>'\n",
              "            + ' to learn more about interactive tables.';\n",
              "          element.innerHTML = '';\n",
              "          dataTable['output_type'] = 'display_data';\n",
              "          await google.colab.output.renderOutput(dataTable, element);\n",
              "          const docLink = document.createElement('div');\n",
              "          docLink.innerHTML = docLinkHtml;\n",
              "          element.appendChild(docLink);\n",
              "        }\n",
              "      </script>\n",
              "    </div>\n",
              "  </div>\n",
              "  "
            ]
          },
          "metadata": {},
          "execution_count": 13
        }
      ]
    },
    {
      "cell_type": "code",
      "execution_count": 14,
      "metadata": {
        "colab": {
          "base_uri": "https://localhost:8080/"
        },
        "id": "kZuvVbtHtkYg",
        "outputId": "f6601702-7053-4ea5-d00d-537e9cb9ee07"
      },
      "outputs": [
        {
          "output_type": "stream",
          "name": "stdout",
          "text": [
            "<class 'pandas.core.frame.DataFrame'>\n",
            "RangeIndex: 22750 entries, 0 to 22749\n",
            "Data columns (total 9 columns):\n",
            " #   Column                Non-Null Count  Dtype  \n",
            "---  ------                --------------  -----  \n",
            " 0   Employee ID           22750 non-null  object \n",
            " 1   Date of Joining       22750 non-null  object \n",
            " 2   Gender                22750 non-null  object \n",
            " 3   Company Type          22750 non-null  object \n",
            " 4   WFH Setup Available   22750 non-null  object \n",
            " 5   Designation           22750 non-null  float64\n",
            " 6   Resource Allocation   21369 non-null  float64\n",
            " 7   Mental Fatigue Score  20633 non-null  float64\n",
            " 8   Burn Rate             21626 non-null  float64\n",
            "dtypes: float64(4), object(5)\n",
            "memory usage: 1.6+ MB\n"
          ]
        }
      ],
      "source": [
        "# info de las columnas\n",
        "df.info()"
      ]
    },
    {
      "cell_type": "code",
      "execution_count": 16,
      "metadata": {
        "colab": {
          "base_uri": "https://localhost:8080/",
          "height": 317
        },
        "id": "KrH5RyGHtkYg",
        "outputId": "64310dd2-a462-4036-d9ac-1ba1ef740679"
      },
      "outputs": [
        {
          "output_type": "execute_result",
          "data": {
            "text/plain": [
              "                        count unique                       top   freq  \\\n",
              "Employee ID             18590  18590  fffe32003000360033003200      1   \n",
              "Date of Joining         18590    366                  6/1/2008     73   \n",
              "Gender                  18590      2                    Female   9747   \n",
              "Company Type            18590      2                   Service  12174   \n",
              "WFH Setup Available     18590      2                       Yes  10030   \n",
              "Designation           18590.0    NaN                       NaN    NaN   \n",
              "Resource Allocation   18590.0    NaN                       NaN    NaN   \n",
              "Mental Fatigue Score  18590.0    NaN                       NaN    NaN   \n",
              "Burn Rate             18590.0    NaN                       NaN    NaN   \n",
              "\n",
              "                          mean       std  min   25%   50%   75%   max  \n",
              "Employee ID                NaN       NaN  NaN   NaN   NaN   NaN   NaN  \n",
              "Date of Joining            NaN       NaN  NaN   NaN   NaN   NaN   NaN  \n",
              "Gender                     NaN       NaN  NaN   NaN   NaN   NaN   NaN  \n",
              "Company Type               NaN       NaN  NaN   NaN   NaN   NaN   NaN  \n",
              "WFH Setup Available        NaN       NaN  NaN   NaN   NaN   NaN   NaN  \n",
              "Designation           2.179398  1.133148  0.0   1.0   2.0   3.0   5.0  \n",
              "Resource Allocation   4.486552  2.044848  1.0   3.0   4.0   6.0  10.0  \n",
              "Mental Fatigue Score  5.732173  1.920547  0.0   4.6   5.9   7.1  10.0  \n",
              "Burn Rate             0.452444  0.197848  0.0  0.32  0.45  0.59   1.0  "
            ],
            "text/html": [
              "\n",
              "  <div id=\"df-c4204c9a-8858-48c8-b25d-d6183cf2219f\">\n",
              "    <div class=\"colab-df-container\">\n",
              "      <div>\n",
              "<style scoped>\n",
              "    .dataframe tbody tr th:only-of-type {\n",
              "        vertical-align: middle;\n",
              "    }\n",
              "\n",
              "    .dataframe tbody tr th {\n",
              "        vertical-align: top;\n",
              "    }\n",
              "\n",
              "    .dataframe thead th {\n",
              "        text-align: right;\n",
              "    }\n",
              "</style>\n",
              "<table border=\"1\" class=\"dataframe\">\n",
              "  <thead>\n",
              "    <tr style=\"text-align: right;\">\n",
              "      <th></th>\n",
              "      <th>count</th>\n",
              "      <th>unique</th>\n",
              "      <th>top</th>\n",
              "      <th>freq</th>\n",
              "      <th>mean</th>\n",
              "      <th>std</th>\n",
              "      <th>min</th>\n",
              "      <th>25%</th>\n",
              "      <th>50%</th>\n",
              "      <th>75%</th>\n",
              "      <th>max</th>\n",
              "    </tr>\n",
              "  </thead>\n",
              "  <tbody>\n",
              "    <tr>\n",
              "      <th>Employee ID</th>\n",
              "      <td>18590</td>\n",
              "      <td>18590</td>\n",
              "      <td>fffe32003000360033003200</td>\n",
              "      <td>1</td>\n",
              "      <td>NaN</td>\n",
              "      <td>NaN</td>\n",
              "      <td>NaN</td>\n",
              "      <td>NaN</td>\n",
              "      <td>NaN</td>\n",
              "      <td>NaN</td>\n",
              "      <td>NaN</td>\n",
              "    </tr>\n",
              "    <tr>\n",
              "      <th>Date of Joining</th>\n",
              "      <td>18590</td>\n",
              "      <td>366</td>\n",
              "      <td>6/1/2008</td>\n",
              "      <td>73</td>\n",
              "      <td>NaN</td>\n",
              "      <td>NaN</td>\n",
              "      <td>NaN</td>\n",
              "      <td>NaN</td>\n",
              "      <td>NaN</td>\n",
              "      <td>NaN</td>\n",
              "      <td>NaN</td>\n",
              "    </tr>\n",
              "    <tr>\n",
              "      <th>Gender</th>\n",
              "      <td>18590</td>\n",
              "      <td>2</td>\n",
              "      <td>Female</td>\n",
              "      <td>9747</td>\n",
              "      <td>NaN</td>\n",
              "      <td>NaN</td>\n",
              "      <td>NaN</td>\n",
              "      <td>NaN</td>\n",
              "      <td>NaN</td>\n",
              "      <td>NaN</td>\n",
              "      <td>NaN</td>\n",
              "    </tr>\n",
              "    <tr>\n",
              "      <th>Company Type</th>\n",
              "      <td>18590</td>\n",
              "      <td>2</td>\n",
              "      <td>Service</td>\n",
              "      <td>12174</td>\n",
              "      <td>NaN</td>\n",
              "      <td>NaN</td>\n",
              "      <td>NaN</td>\n",
              "      <td>NaN</td>\n",
              "      <td>NaN</td>\n",
              "      <td>NaN</td>\n",
              "      <td>NaN</td>\n",
              "    </tr>\n",
              "    <tr>\n",
              "      <th>WFH Setup Available</th>\n",
              "      <td>18590</td>\n",
              "      <td>2</td>\n",
              "      <td>Yes</td>\n",
              "      <td>10030</td>\n",
              "      <td>NaN</td>\n",
              "      <td>NaN</td>\n",
              "      <td>NaN</td>\n",
              "      <td>NaN</td>\n",
              "      <td>NaN</td>\n",
              "      <td>NaN</td>\n",
              "      <td>NaN</td>\n",
              "    </tr>\n",
              "    <tr>\n",
              "      <th>Designation</th>\n",
              "      <td>18590.0</td>\n",
              "      <td>NaN</td>\n",
              "      <td>NaN</td>\n",
              "      <td>NaN</td>\n",
              "      <td>2.179398</td>\n",
              "      <td>1.133148</td>\n",
              "      <td>0.0</td>\n",
              "      <td>1.0</td>\n",
              "      <td>2.0</td>\n",
              "      <td>3.0</td>\n",
              "      <td>5.0</td>\n",
              "    </tr>\n",
              "    <tr>\n",
              "      <th>Resource Allocation</th>\n",
              "      <td>18590.0</td>\n",
              "      <td>NaN</td>\n",
              "      <td>NaN</td>\n",
              "      <td>NaN</td>\n",
              "      <td>4.486552</td>\n",
              "      <td>2.044848</td>\n",
              "      <td>1.0</td>\n",
              "      <td>3.0</td>\n",
              "      <td>4.0</td>\n",
              "      <td>6.0</td>\n",
              "      <td>10.0</td>\n",
              "    </tr>\n",
              "    <tr>\n",
              "      <th>Mental Fatigue Score</th>\n",
              "      <td>18590.0</td>\n",
              "      <td>NaN</td>\n",
              "      <td>NaN</td>\n",
              "      <td>NaN</td>\n",
              "      <td>5.732173</td>\n",
              "      <td>1.920547</td>\n",
              "      <td>0.0</td>\n",
              "      <td>4.6</td>\n",
              "      <td>5.9</td>\n",
              "      <td>7.1</td>\n",
              "      <td>10.0</td>\n",
              "    </tr>\n",
              "    <tr>\n",
              "      <th>Burn Rate</th>\n",
              "      <td>18590.0</td>\n",
              "      <td>NaN</td>\n",
              "      <td>NaN</td>\n",
              "      <td>NaN</td>\n",
              "      <td>0.452444</td>\n",
              "      <td>0.197848</td>\n",
              "      <td>0.0</td>\n",
              "      <td>0.32</td>\n",
              "      <td>0.45</td>\n",
              "      <td>0.59</td>\n",
              "      <td>1.0</td>\n",
              "    </tr>\n",
              "  </tbody>\n",
              "</table>\n",
              "</div>\n",
              "      <button class=\"colab-df-convert\" onclick=\"convertToInteractive('df-c4204c9a-8858-48c8-b25d-d6183cf2219f')\"\n",
              "              title=\"Convert this dataframe to an interactive table.\"\n",
              "              style=\"display:none;\">\n",
              "        \n",
              "  <svg xmlns=\"http://www.w3.org/2000/svg\" height=\"24px\"viewBox=\"0 0 24 24\"\n",
              "       width=\"24px\">\n",
              "    <path d=\"M0 0h24v24H0V0z\" fill=\"none\"/>\n",
              "    <path d=\"M18.56 5.44l.94 2.06.94-2.06 2.06-.94-2.06-.94-.94-2.06-.94 2.06-2.06.94zm-11 1L8.5 8.5l.94-2.06 2.06-.94-2.06-.94L8.5 2.5l-.94 2.06-2.06.94zm10 10l.94 2.06.94-2.06 2.06-.94-2.06-.94-.94-2.06-.94 2.06-2.06.94z\"/><path d=\"M17.41 7.96l-1.37-1.37c-.4-.4-.92-.59-1.43-.59-.52 0-1.04.2-1.43.59L10.3 9.45l-7.72 7.72c-.78.78-.78 2.05 0 2.83L4 21.41c.39.39.9.59 1.41.59.51 0 1.02-.2 1.41-.59l7.78-7.78 2.81-2.81c.8-.78.8-2.07 0-2.86zM5.41 20L4 18.59l7.72-7.72 1.47 1.35L5.41 20z\"/>\n",
              "  </svg>\n",
              "      </button>\n",
              "      \n",
              "  <style>\n",
              "    .colab-df-container {\n",
              "      display:flex;\n",
              "      flex-wrap:wrap;\n",
              "      gap: 12px;\n",
              "    }\n",
              "\n",
              "    .colab-df-convert {\n",
              "      background-color: #E8F0FE;\n",
              "      border: none;\n",
              "      border-radius: 50%;\n",
              "      cursor: pointer;\n",
              "      display: none;\n",
              "      fill: #1967D2;\n",
              "      height: 32px;\n",
              "      padding: 0 0 0 0;\n",
              "      width: 32px;\n",
              "    }\n",
              "\n",
              "    .colab-df-convert:hover {\n",
              "      background-color: #E2EBFA;\n",
              "      box-shadow: 0px 1px 2px rgba(60, 64, 67, 0.3), 0px 1px 3px 1px rgba(60, 64, 67, 0.15);\n",
              "      fill: #174EA6;\n",
              "    }\n",
              "\n",
              "    [theme=dark] .colab-df-convert {\n",
              "      background-color: #3B4455;\n",
              "      fill: #D2E3FC;\n",
              "    }\n",
              "\n",
              "    [theme=dark] .colab-df-convert:hover {\n",
              "      background-color: #434B5C;\n",
              "      box-shadow: 0px 1px 3px 1px rgba(0, 0, 0, 0.15);\n",
              "      filter: drop-shadow(0px 1px 2px rgba(0, 0, 0, 0.3));\n",
              "      fill: #FFFFFF;\n",
              "    }\n",
              "  </style>\n",
              "\n",
              "      <script>\n",
              "        const buttonEl =\n",
              "          document.querySelector('#df-c4204c9a-8858-48c8-b25d-d6183cf2219f button.colab-df-convert');\n",
              "        buttonEl.style.display =\n",
              "          google.colab.kernel.accessAllowed ? 'block' : 'none';\n",
              "\n",
              "        async function convertToInteractive(key) {\n",
              "          const element = document.querySelector('#df-c4204c9a-8858-48c8-b25d-d6183cf2219f');\n",
              "          const dataTable =\n",
              "            await google.colab.kernel.invokeFunction('convertToInteractive',\n",
              "                                                     [key], {});\n",
              "          if (!dataTable) return;\n",
              "\n",
              "          const docLinkHtml = 'Like what you see? Visit the ' +\n",
              "            '<a target=\"_blank\" href=https://colab.research.google.com/notebooks/data_table.ipynb>data table notebook</a>'\n",
              "            + ' to learn more about interactive tables.';\n",
              "          element.innerHTML = '';\n",
              "          dataTable['output_type'] = 'display_data';\n",
              "          await google.colab.output.renderOutput(dataTable, element);\n",
              "          const docLink = document.createElement('div');\n",
              "          docLink.innerHTML = docLinkHtml;\n",
              "          element.appendChild(docLink);\n",
              "        }\n",
              "      </script>\n",
              "    </div>\n",
              "  </div>\n",
              "  "
            ]
          },
          "metadata": {},
          "execution_count": 16
        }
      ],
      "source": [
        "# descripcion estadistica\n",
        "df.describe(include='all').T"
      ]
    },
    {
      "cell_type": "code",
      "execution_count": 15,
      "metadata": {
        "id": "MU9LHRMttkYh"
      },
      "outputs": [],
      "source": [
        "# Borrado de nulos\n",
        "df.dropna(inplace=True)"
      ]
    },
    {
      "cell_type": "code",
      "execution_count": 17,
      "metadata": {
        "colab": {
          "base_uri": "https://localhost:8080/",
          "height": 373
        },
        "id": "5MJ1Fst6tkYh",
        "outputId": "3247cdc2-e4c7-4d22-e6a2-2548fb3b8a00"
      },
      "outputs": [
        {
          "output_type": "display_data",
          "data": {
            "text/plain": [
              "<Figure size 1080x360 with 2 Axes>"
            ],
            "image/png": "[encoded data removed]"
          },
          "metadata": {
            "needs_background": "light"
          }
        }
      ],
      "source": [
        "# Analisis de nueva clasificacion para Burn Rate de esta manera se podra aplicar segun mi criterio a una clasificacion binaria de estres.\n",
        "\n",
        "fig, axes = plt.subplots(nrows=1,ncols=2,figsize=(15,5))\n",
        "\n",
        "sns.histplot(\n",
        "    data    = df,\n",
        "    x       = 'Burn Rate',\n",
        "    stat    = \"count\",\n",
        "    kde     = True,\n",
        "    line_kws= {'linewidth': 2},\n",
        "    alpha   = 0.3,\n",
        "    ax = axes[0])\n",
        "sns.boxplot(\n",
        "    x=None, \n",
        "    y='Burn Rate',\n",
        "    hue=None, \n",
        "    data=df,\n",
        "    order=None, \n",
        "    hue_order=None,\n",
        "    orient=None, \n",
        "    color='Red', \n",
        "    palette=None, \n",
        "    saturation=.75,\n",
        "    width=.8, \n",
        "    dodge=True, \n",
        "    fliersize=5, \n",
        "    linewidth=2.5,\n",
        "    whis=1.5, \n",
        "    ax=axes[1],\n",
        ")\n",
        "\n",
        "fig.show()\n",
        "\n",
        "fig.tight_layout()\n",
        "plt.subplots_adjust(top = 0.9)\n",
        "fig.suptitle('Distribución Burn Rate', fontsize = 10, fontweight = \"bold\");"
      ]
    },
    {
      "cell_type": "code",
      "execution_count": 18,
      "metadata": {
        "colab": {
          "base_uri": "https://localhost:8080/"
        },
        "id": "EfsYV8umtkYi",
        "outputId": "260bc28f-54ac-4f71-a97f-0ac653484f1f"
      },
      "outputs": [
        {
          "output_type": "execute_result",
          "data": {
            "text/plain": [
              "0    0.74653\n",
              "1    0.25347\n",
              "Name: burn_rate_new, dtype: float64"
            ]
          },
          "metadata": {},
          "execution_count": 18
        }
      ],
      "source": [
        "# Se genera una nueva variable la cual si el valor del burn rate supera su mediana tendra un valor de 1, definido como estresado,\n",
        "# si es menor a la mediana tendra un valor de 0, significante de no estresado, esto para fines practicos del algoritmo.\n",
        "\n",
        "valorDivision= df['Burn Rate'].quantile(0.75)\n",
        "# valorDivision= df['Burn Rate'].median()\n",
        "# valorDivision= df['Burn Rate'].mean()\n",
        "\n",
        "def rangeBurnRate(x):\n",
        "    if x < valorDivision:\n",
        "        return 0\n",
        "    else:\n",
        "        return 1\n",
        "\n",
        "df['burn_rate_new'] = df['Burn Rate'].apply(lambda x :rangeBurnRate(x) )\n",
        "\n",
        "df.burn_rate_new.value_counts(normalize=True)"
      ]
    },
    {
      "cell_type": "code",
      "source": [
        "df"
      ],
      "metadata": {
        "colab": {
          "base_uri": "https://localhost:8080/",
          "height": 484
        },
        "id": "G0Ji73AGwCLE",
        "outputId": "0bd425ef-a3ac-4258-f963-8eff426888eb"
      },
      "execution_count": 20,
      "outputs": [
        {
          "output_type": "execute_result",
          "data": {
            "text/plain": [
              "                    Employee ID Date of Joining  Gender Company Type  \\\n",
              "0      fffe32003000360033003200       30/9/2008  Female      Service   \n",
              "1          fffe3700360033003500      30/11/2008    Male      Service   \n",
              "3      fffe32003400380032003900       3/11/2008    Male      Service   \n",
              "4      fffe31003900340031003600       24/7/2008  Female      Service   \n",
              "5          fffe3300350037003500      26/11/2008    Male      Product   \n",
              "...                         ...             ...     ...          ...   \n",
              "22743      fffe3300390030003600      15/12/2008  Female      Product   \n",
              "22744  fffe32003500370033003200       27/5/2008    Male      Product   \n",
              "22746  fffe33003000350031003800       19/1/2008  Female      Product   \n",
              "22748  fffe33003300320036003900       10/1/2008  Female      Service   \n",
              "22749      fffe3400350031003800        6/1/2008    Male      Product   \n",
              "\n",
              "      WFH Setup Available  Designation  Resource Allocation  \\\n",
              "0                      No          2.0                  3.0   \n",
              "1                     Yes          1.0                  2.0   \n",
              "3                     Yes          1.0                  1.0   \n",
              "4                      No          3.0                  7.0   \n",
              "5                     Yes          2.0                  4.0   \n",
              "...                   ...          ...                  ...   \n",
              "22743                 Yes          1.0                  3.0   \n",
              "22744                  No          3.0                  7.0   \n",
              "22746                 Yes          3.0                  6.0   \n",
              "22748                  No          2.0                  5.0   \n",
              "22749                  No          3.0                  6.0   \n",
              "\n",
              "       Mental Fatigue Score  Burn Rate  burn_rate_new  \n",
              "0                       3.8       0.16              0  \n",
              "1                       5.0       0.36              0  \n",
              "3                       2.6       0.20              0  \n",
              "4                       6.9       0.52              0  \n",
              "5                       3.6       0.29              0  \n",
              "...                     ...        ...            ...  \n",
              "22743                   6.0       0.48              0  \n",
              "22744                   6.2       0.54              0  \n",
              "22746                   6.7       0.59              1  \n",
              "22748                   5.9       0.52              0  \n",
              "22749                   7.8       0.61              1  \n",
              "\n",
              "[18590 rows x 10 columns]"
            ],
            "text/html": [
              "\n",
              "  <div id=\"df-51221f50-da6a-4e8a-8f56-e47bf5e51431\">\n",
              "    <div class=\"colab-df-container\">\n",
              "      <div>\n",
              "<style scoped>\n",
              "    .dataframe tbody tr th:only-of-type {\n",
              "        vertical-align: middle;\n",
              "    }\n",
              "\n",
              "    .dataframe tbody tr th {\n",
              "        vertical-align: top;\n",
              "    }\n",
              "\n",
              "    .dataframe thead th {\n",
              "        text-align: right;\n",
              "    }\n",
              "</style>\n",
              "<table border=\"1\" class=\"dataframe\">\n",
              "  <thead>\n",
              "    <tr style=\"text-align: right;\">\n",
              "      <th></th>\n",
              "      <th>Employee ID</th>\n",
              "      <th>Date of Joining</th>\n",
              "      <th>Gender</th>\n",
              "      <th>Company Type</th>\n",
              "      <th>WFH Setup Available</th>\n",
              "      <th>Designation</th>\n",
              "      <th>Resource Allocation</th>\n",
              "      <th>Mental Fatigue Score</th>\n",
              "      <th>Burn Rate</th>\n",
              "      <th>burn_rate_new</th>\n",
              "    </tr>\n",
              "  </thead>\n",
              "  <tbody>\n",
              "    <tr>\n",
              "      <th>0</th>\n",
              "      <td>fffe32003000360033003200</td>\n",
              "      <td>30/9/2008</td>\n",
              "      <td>Female</td>\n",
              "      <td>Service</td>\n",
              "      <td>No</td>\n",
              "      <td>2.0</td>\n",
              "      <td>3.0</td>\n",
              "      <td>3.8</td>\n",
              "      <td>0.16</td>\n",
              "      <td>0</td>\n",
              "    </tr>\n",
              "    <tr>\n",
              "      <th>1</th>\n",
              "      <td>fffe3700360033003500</td>\n",
              "      <td>30/11/2008</td>\n",
              "      <td>Male</td>\n",
              "      <td>Service</td>\n",
              "      <td>Yes</td>\n",
              "      <td>1.0</td>\n",
              "      <td>2.0</td>\n",
              "      <td>5.0</td>\n",
              "      <td>0.36</td>\n",
              "      <td>0</td>\n",
              "    </tr>\n",
              "    <tr>\n",
              "      <th>3</th>\n",
              "      <td>fffe32003400380032003900</td>\n",
              "      <td>3/11/2008</td>\n",
              "      <td>Male</td>\n",
              "      <td>Service</td>\n",
              "      <td>Yes</td>\n",
              "      <td>1.0</td>\n",
              "      <td>1.0</td>\n",
              "      <td>2.6</td>\n",
              "      <td>0.20</td>\n",
              "      <td>0</td>\n",
              "    </tr>\n",
              "    <tr>\n",
              "      <th>4</th>\n",
              "      <td>fffe31003900340031003600</td>\n",
              "      <td>24/7/2008</td>\n",
              "      <td>Female</td>\n",
              "      <td>Service</td>\n",
              "      <td>No</td>\n",
              "      <td>3.0</td>\n",
              "      <td>7.0</td>\n",
              "      <td>6.9</td>\n",
              "      <td>0.52</td>\n",
              "      <td>0</td>\n",
              "    </tr>\n",
              "    <tr>\n",
              "      <th>5</th>\n",
              "      <td>fffe3300350037003500</td>\n",
              "      <td>26/11/2008</td>\n",
              "      <td>Male</td>\n",
              "      <td>Product</td>\n",
              "      <td>Yes</td>\n",
              "      <td>2.0</td>\n",
              "      <td>4.0</td>\n",
              "      <td>3.6</td>\n",
              "      <td>0.29</td>\n",
              "      <td>0</td>\n",
              "    </tr>\n",
              "    <tr>\n",
              "      <th>...</th>\n",
              "      <td>...</td>\n",
              "      <td>...</td>\n",
              "      <td>...</td>\n",
              "      <td>...</td>\n",
              "      <td>...</td>\n",
              "      <td>...</td>\n",
              "      <td>...</td>\n",
              "      <td>...</td>\n",
              "      <td>...</td>\n",
              "      <td>...</td>\n",
              "    </tr>\n",
              "    <tr>\n",
              "      <th>22743</th>\n",
              "      <td>fffe3300390030003600</td>\n",
              "      <td>15/12/2008</td>\n",
              "      <td>Female</td>\n",
              "      <td>Product</td>\n",
              "      <td>Yes</td>\n",
              "      <td>1.0</td>\n",
              "      <td>3.0</td>\n",
              "      <td>6.0</td>\n",
              "      <td>0.48</td>\n",
              "      <td>0</td>\n",
              "    </tr>\n",
              "    <tr>\n",
              "      <th>22744</th>\n",
              "      <td>fffe32003500370033003200</td>\n",
              "      <td>27/5/2008</td>\n",
              "      <td>Male</td>\n",
              "      <td>Product</td>\n",
              "      <td>No</td>\n",
              "      <td>3.0</td>\n",
              "      <td>7.0</td>\n",
              "      <td>6.2</td>\n",
              "      <td>0.54</td>\n",
              "      <td>0</td>\n",
              "    </tr>\n",
              "    <tr>\n",
              "      <th>22746</th>\n",
              "      <td>fffe33003000350031003800</td>\n",
              "      <td>19/1/2008</td>\n",
              "      <td>Female</td>\n",
              "      <td>Product</td>\n",
              "      <td>Yes</td>\n",
              "      <td>3.0</td>\n",
              "      <td>6.0</td>\n",
              "      <td>6.7</td>\n",
              "      <td>0.59</td>\n",
              "      <td>1</td>\n",
              "    </tr>\n",
              "    <tr>\n",
              "      <th>22748</th>\n",
              "      <td>fffe33003300320036003900</td>\n",
              "      <td>10/1/2008</td>\n",
              "      <td>Female</td>\n",
              "      <td>Service</td>\n",
              "      <td>No</td>\n",
              "      <td>2.0</td>\n",
              "      <td>5.0</td>\n",
              "      <td>5.9</td>\n",
              "      <td>0.52</td>\n",
              "      <td>0</td>\n",
              "    </tr>\n",
              "    <tr>\n",
              "      <th>22749</th>\n",
              "      <td>fffe3400350031003800</td>\n",
              "      <td>6/1/2008</td>\n",
              "      <td>Male</td>\n",
              "      <td>Product</td>\n",
              "      <td>No</td>\n",
              "      <td>3.0</td>\n",
              "      <td>6.0</td>\n",
              "      <td>7.8</td>\n",
              "      <td>0.61</td>\n",
              "      <td>1</td>\n",
              "    </tr>\n",
              "  </tbody>\n",
              "</table>\n",
              "<p>18590 rows × 10 columns</p>\n",
              "</div>\n",
              "      <button class=\"colab-df-convert\" onclick=\"convertToInteractive('df-51221f50-da6a-4e8a-8f56-e47bf5e51431')\"\n",
              "              title=\"Convert this dataframe to an interactive table.\"\n",
              "              style=\"display:none;\">\n",
              "        \n",
              "  <svg xmlns=\"http://www.w3.org/2000/svg\" height=\"24px\"viewBox=\"0 0 24 24\"\n",
              "       width=\"24px\">\n",
              "    <path d=\"M0 0h24v24H0V0z\" fill=\"none\"/>\n",
              "    <path d=\"M18.56 5.44l.94 2.06.94-2.06 2.06-.94-2.06-.94-.94-2.06-.94 2.06-2.06.94zm-11 1L8.5 8.5l.94-2.06 2.06-.94-2.06-.94L8.5 2.5l-.94 2.06-2.06.94zm10 10l.94 2.06.94-2.06 2.06-.94-2.06-.94-.94-2.06-.94 2.06-2.06.94z\"/><path d=\"M17.41 7.96l-1.37-1.37c-.4-.4-.92-.59-1.43-.59-.52 0-1.04.2-1.43.59L10.3 9.45l-7.72 7.72c-.78.78-.78 2.05 0 2.83L4 21.41c.39.39.9.59 1.41.59.51 0 1.02-.2 1.41-.59l7.78-7.78 2.81-2.81c.8-.78.8-2.07 0-2.86zM5.41 20L4 18.59l7.72-7.72 1.47 1.35L5.41 20z\"/>\n",
              "  </svg>\n",
              "      </button>\n",
              "      \n",
              "  <style>\n",
              "    .colab-df-container {\n",
              "      display:flex;\n",
              "      flex-wrap:wrap;\n",
              "      gap: 12px;\n",
              "    }\n",
              "\n",
              "    .colab-df-convert {\n",
              "      background-color: #E8F0FE;\n",
              "      border: none;\n",
              "      border-radius: 50%;\n",
              "      cursor: pointer;\n",
              "      display: none;\n",
              "      fill: #1967D2;\n",
              "      height: 32px;\n",
              "      padding: 0 0 0 0;\n",
              "      width: 32px;\n",
              "    }\n",
              "\n",
              "    .colab-df-convert:hover {\n",
              "      background-color: #E2EBFA;\n",
              "      box-shadow: 0px 1px 2px rgba(60, 64, 67, 0.3), 0px 1px 3px 1px rgba(60, 64, 67, 0.15);\n",
              "      fill: #174EA6;\n",
              "    }\n",
              "\n",
              "    [theme=dark] .colab-df-convert {\n",
              "      background-color: #3B4455;\n",
              "      fill: #D2E3FC;\n",
              "    }\n",
              "\n",
              "    [theme=dark] .colab-df-convert:hover {\n",
              "      background-color: #434B5C;\n",
              "      box-shadow: 0px 1px 3px 1px rgba(0, 0, 0, 0.15);\n",
              "      filter: drop-shadow(0px 1px 2px rgba(0, 0, 0, 0.3));\n",
              "      fill: #FFFFFF;\n",
              "    }\n",
              "  </style>\n",
              "\n",
              "      <script>\n",
              "        const buttonEl =\n",
              "          document.querySelector('#df-51221f50-da6a-4e8a-8f56-e47bf5e51431 button.colab-df-convert');\n",
              "        buttonEl.style.display =\n",
              "          google.colab.kernel.accessAllowed ? 'block' : 'none';\n",
              "\n",
              "        async function convertToInteractive(key) {\n",
              "          const element = document.querySelector('#df-51221f50-da6a-4e8a-8f56-e47bf5e51431');\n",
              "          const dataTable =\n",
              "            await google.colab.kernel.invokeFunction('convertToInteractive',\n",
              "                                                     [key], {});\n",
              "          if (!dataTable) return;\n",
              "\n",
              "          const docLinkHtml = 'Like what you see? Visit the ' +\n",
              "            '<a target=\"_blank\" href=https://colab.research.google.com/notebooks/data_table.ipynb>data table notebook</a>'\n",
              "            + ' to learn more about interactive tables.';\n",
              "          element.innerHTML = '';\n",
              "          dataTable['output_type'] = 'display_data';\n",
              "          await google.colab.output.renderOutput(dataTable, element);\n",
              "          const docLink = document.createElement('div');\n",
              "          docLink.innerHTML = docLinkHtml;\n",
              "          element.appendChild(docLink);\n",
              "        }\n",
              "      </script>\n",
              "    </div>\n",
              "  </div>\n",
              "  "
            ]
          },
          "metadata": {},
          "execution_count": 20
        }
      ]
    },
    {
      "cell_type": "code",
      "execution_count": 21,
      "metadata": {
        "id": "XF-l8z_WtkYi"
      },
      "outputs": [],
      "source": [
        "# Funcion para transformacion de X_train y X_test para hacer reproducible el modelo.\n",
        "def transformacion(x):\n",
        "    columnas ={\n",
        "        'WFH Setup Available':'home_office',\n",
        "        'Resource Allocation': 'res_allo',\n",
        "        'Gender':'sex',\n",
        "        'Designation':'desig',\n",
        "        'Company Type':'comp_type',\n",
        "        'Date of Joining':'date_join',\n",
        "        'Employee ID':'id_employee',\n",
        "        'Burn Rate':'burn_rate',\n",
        "        'Mental Fatigue Score':'men_fat_score'\n",
        "    }\n",
        "\n",
        "    x.rename(columns=columnas,inplace=True)\n",
        "\n",
        "    # Realizo transformacion de Designation y Resource Allocation para poder generar su aplicacion de One Hot Encoding, \n",
        "    # al ser variables numericas.\n",
        "    x['desig']= x['desig'].astype('object')\n",
        "    x['res_allo'] = x['res_allo'].astype('object')\n",
        "\n",
        "    # Realizamos la aplicacion del one hote encoding para las columnas transformadas.\n",
        "    x_encoder= pd.get_dummies(x[['sex','comp_type','home_office','desig','res_allo']])\n",
        "\n",
        "    return x,x_encoder\n",
        "    "
      ]
    },
    {
      "cell_type": "markdown",
      "metadata": {
        "id": "IuE9MP2KhzbN"
      },
      "source": [
        "# Aplicacion Modelo de Regresion Logistica\n",
        "\n",
        "#### *Es un método para problemas de clasificación, en los que se obtienen un valor binario entre 0 y 1.*\n",
        "\n",
        "#### *La Regresión Logística describe y estima la relación entre una variable binaria dependiente y las variables independientes*"
      ]
    },
    {
      "cell_type": "markdown",
      "metadata": {
        "id": "WuM27cqftkYj"
      },
      "source": [
        "#### *Separacion de caracteristicas y variable objetivo*"
      ]
    },
    {
      "cell_type": "code",
      "execution_count": 22,
      "metadata": {
        "id": "Sx4a5G6FhzbO"
      },
      "outputs": [],
      "source": [
        "# separo las features en X e y\n",
        "caracteristicas = df.drop(['burn_rate_new','Burn Rate','Employee ID','Date of Joining'],axis=1)\n",
        "objetivo = df[['burn_rate_new']]"
      ]
    },
    {
      "cell_type": "code",
      "execution_count": 23,
      "metadata": {
        "id": "50GO6JAutkYj"
      },
      "outputs": [],
      "source": [
        "# Separo el dataset en Train y Test, al no estar desbalanceado.\n",
        "X_train,X_test,y_train,y_test = train_test_split(\n",
        "    caracteristicas,\n",
        "    objetivo,\n",
        "    test_size=0.3,\n",
        "    random_state=42,\n",
        "    stratify=objetivo\n",
        ")"
      ]
    },
    {
      "cell_type": "markdown",
      "metadata": {
        "id": "CbpcHv7NtkYk"
      },
      "source": [
        "#### *Transformar X_train*"
      ]
    },
    {
      "cell_type": "code",
      "execution_count": 24,
      "metadata": {
        "id": "AyI-2BoMtkYk"
      },
      "outputs": [],
      "source": [
        "X_train,X_train_encoder = transformacion(X_train)"
      ]
    },
    {
      "cell_type": "markdown",
      "metadata": {
        "id": "eIBuWwVftkYk"
      },
      "source": [
        "#### *Creacion de modelo*"
      ]
    },
    {
      "cell_type": "code",
      "execution_count": 25,
      "metadata": {
        "id": "iYEt0ORVhzbP",
        "colab": {
          "base_uri": "https://localhost:8080/"
        },
        "outputId": "b53e080e-ea6c-4204-9baa-c63d4107aa93"
      },
      "outputs": [
        {
          "output_type": "execute_result",
          "data": {
            "text/plain": [
              "LogisticRegression(n_jobs=1, random_state=34)"
            ]
          },
          "metadata": {},
          "execution_count": 25
        }
      ],
      "source": [
        "lg = LogisticRegression(\n",
        "        penalty=\"l2\",\n",
        "        dual=False,\n",
        "        tol=1e-4,\n",
        "        C=1.0,\n",
        "        fit_intercept=True,\n",
        "        intercept_scaling=1,\n",
        "        class_weight=None,\n",
        "        random_state=34,\n",
        "        solver=\"lbfgs\",\n",
        "        max_iter=100,\n",
        "        multi_class=\"auto\",\n",
        "        verbose=0,\n",
        "        warm_start=False,\n",
        "        n_jobs=1,\n",
        "        l1_ratio=None,\n",
        ")\n",
        "\n",
        "# Entreno el modelo\n",
        "lg.fit(X_train_encoder,y_train)"
      ]
    },
    {
      "cell_type": "code",
      "source": [
        "y_train"
      ],
      "metadata": {
        "colab": {
          "base_uri": "https://localhost:8080/",
          "height": 406
        },
        "id": "X8uTqYtyx18R",
        "outputId": "712dd591-5db2-48fe-da74-d1552121954a"
      },
      "execution_count": 32,
      "outputs": [
        {
          "output_type": "execute_result",
          "data": {
            "text/plain": [
              "       burn_rate_new\n",
              "3247               0\n",
              "13504              0\n",
              "20877              1\n",
              "15557              0\n",
              "5284               0\n",
              "...              ...\n",
              "2817               0\n",
              "19772              1\n",
              "4238               0\n",
              "15678              1\n",
              "21698              0\n",
              "\n",
              "[13013 rows x 1 columns]"
            ],
            "text/html": [
              "\n",
              "  <div id=\"df-d4d45361-07e0-4820-a30f-f09bdf65b6b4\">\n",
              "    <div class=\"colab-df-container\">\n",
              "      <div>\n",
              "<style scoped>\n",
              "    .dataframe tbody tr th:only-of-type {\n",
              "        vertical-align: middle;\n",
              "    }\n",
              "\n",
              "    .dataframe tbody tr th {\n",
              "        vertical-align: top;\n",
              "    }\n",
              "\n",
              "    .dataframe thead th {\n",
              "        text-align: right;\n",
              "    }\n",
              "</style>\n",
              "<table border=\"1\" class=\"dataframe\">\n",
              "  <thead>\n",
              "    <tr style=\"text-align: right;\">\n",
              "      <th></th>\n",
              "      <th>burn_rate_new</th>\n",
              "    </tr>\n",
              "  </thead>\n",
              "  <tbody>\n",
              "    <tr>\n",
              "      <th>3247</th>\n",
              "      <td>0</td>\n",
              "    </tr>\n",
              "    <tr>\n",
              "      <th>13504</th>\n",
              "      <td>0</td>\n",
              "    </tr>\n",
              "    <tr>\n",
              "      <th>20877</th>\n",
              "      <td>1</td>\n",
              "    </tr>\n",
              "    <tr>\n",
              "      <th>15557</th>\n",
              "      <td>0</td>\n",
              "    </tr>\n",
              "    <tr>\n",
              "      <th>5284</th>\n",
              "      <td>0</td>\n",
              "    </tr>\n",
              "    <tr>\n",
              "      <th>...</th>\n",
              "      <td>...</td>\n",
              "    </tr>\n",
              "    <tr>\n",
              "      <th>2817</th>\n",
              "      <td>0</td>\n",
              "    </tr>\n",
              "    <tr>\n",
              "      <th>19772</th>\n",
              "      <td>1</td>\n",
              "    </tr>\n",
              "    <tr>\n",
              "      <th>4238</th>\n",
              "      <td>0</td>\n",
              "    </tr>\n",
              "    <tr>\n",
              "      <th>15678</th>\n",
              "      <td>1</td>\n",
              "    </tr>\n",
              "    <tr>\n",
              "      <th>21698</th>\n",
              "      <td>0</td>\n",
              "    </tr>\n",
              "  </tbody>\n",
              "</table>\n",
              "<p>13013 rows × 1 columns</p>\n",
              "</div>\n",
              "      <button class=\"colab-df-convert\" onclick=\"convertToInteractive('df-d4d45361-07e0-4820-a30f-f09bdf65b6b4')\"\n",
              "              title=\"Convert this dataframe to an interactive table.\"\n",
              "              style=\"display:none;\">\n",
              "        \n",
              "  <svg xmlns=\"http://www.w3.org/2000/svg\" height=\"24px\"viewBox=\"0 0 24 24\"\n",
              "       width=\"24px\">\n",
              "    <path d=\"M0 0h24v24H0V0z\" fill=\"none\"/>\n",
              "    <path d=\"M18.56 5.44l.94 2.06.94-2.06 2.06-.94-2.06-.94-.94-2.06-.94 2.06-2.06.94zm-11 1L8.5 8.5l.94-2.06 2.06-.94-2.06-.94L8.5 2.5l-.94 2.06-2.06.94zm10 10l.94 2.06.94-2.06 2.06-.94-2.06-.94-.94-2.06-.94 2.06-2.06.94z\"/><path d=\"M17.41 7.96l-1.37-1.37c-.4-.4-.92-.59-1.43-.59-.52 0-1.04.2-1.43.59L10.3 9.45l-7.72 7.72c-.78.78-.78 2.05 0 2.83L4 21.41c.39.39.9.59 1.41.59.51 0 1.02-.2 1.41-.59l7.78-7.78 2.81-2.81c.8-.78.8-2.07 0-2.86zM5.41 20L4 18.59l7.72-7.72 1.47 1.35L5.41 20z\"/>\n",
              "  </svg>\n",
              "      </button>\n",
              "      \n",
              "  <style>\n",
              "    .colab-df-container {\n",
              "      display:flex;\n",
              "      flex-wrap:wrap;\n",
              "      gap: 12px;\n",
              "    }\n",
              "\n",
              "    .colab-df-convert {\n",
              "      background-color: #E8F0FE;\n",
              "      border: none;\n",
              "      border-radius: 50%;\n",
              "      cursor: pointer;\n",
              "      display: none;\n",
              "      fill: #1967D2;\n",
              "      height: 32px;\n",
              "      padding: 0 0 0 0;\n",
              "      width: 32px;\n",
              "    }\n",
              "\n",
              "    .colab-df-convert:hover {\n",
              "      background-color: #E2EBFA;\n",
              "      box-shadow: 0px 1px 2px rgba(60, 64, 67, 0.3), 0px 1px 3px 1px rgba(60, 64, 67, 0.15);\n",
              "      fill: #174EA6;\n",
              "    }\n",
              "\n",
              "    [theme=dark] .colab-df-convert {\n",
              "      background-color: #3B4455;\n",
              "      fill: #D2E3FC;\n",
              "    }\n",
              "\n",
              "    [theme=dark] .colab-df-convert:hover {\n",
              "      background-color: #434B5C;\n",
              "      box-shadow: 0px 1px 3px 1px rgba(0, 0, 0, 0.15);\n",
              "      filter: drop-shadow(0px 1px 2px rgba(0, 0, 0, 0.3));\n",
              "      fill: #FFFFFF;\n",
              "    }\n",
              "  </style>\n",
              "\n",
              "      <script>\n",
              "        const buttonEl =\n",
              "          document.querySelector('#df-d4d45361-07e0-4820-a30f-f09bdf65b6b4 button.colab-df-convert');\n",
              "        buttonEl.style.display =\n",
              "          google.colab.kernel.accessAllowed ? 'block' : 'none';\n",
              "\n",
              "        async function convertToInteractive(key) {\n",
              "          const element = document.querySelector('#df-d4d45361-07e0-4820-a30f-f09bdf65b6b4');\n",
              "          const dataTable =\n",
              "            await google.colab.kernel.invokeFunction('convertToInteractive',\n",
              "                                                     [key], {});\n",
              "          if (!dataTable) return;\n",
              "\n",
              "          const docLinkHtml = 'Like what you see? Visit the ' +\n",
              "            '<a target=\"_blank\" href=https://colab.research.google.com/notebooks/data_table.ipynb>data table notebook</a>'\n",
              "            + ' to learn more about interactive tables.';\n",
              "          element.innerHTML = '';\n",
              "          dataTable['output_type'] = 'display_data';\n",
              "          await google.colab.output.renderOutput(dataTable, element);\n",
              "          const docLink = document.createElement('div');\n",
              "          docLink.innerHTML = docLinkHtml;\n",
              "          element.appendChild(docLink);\n",
              "        }\n",
              "      </script>\n",
              "    </div>\n",
              "  </div>\n",
              "  "
            ]
          },
          "metadata": {},
          "execution_count": 32
        }
      ]
    },
    {
      "cell_type": "markdown",
      "metadata": {
        "id": "1FZwjQGWtkYk"
      },
      "source": [
        "#### *Transformar X_test*"
      ]
    },
    {
      "cell_type": "code",
      "execution_count": 26,
      "metadata": {
        "id": "tkOKqc7QtkYl"
      },
      "outputs": [],
      "source": [
        "X_test,X_test_encoder = transformacion(X_test)"
      ]
    },
    {
      "cell_type": "markdown",
      "metadata": {
        "id": "eRCzfUZjtkYl"
      },
      "source": [
        "### *Prediccion*"
      ]
    },
    {
      "cell_type": "code",
      "execution_count": 27,
      "metadata": {
        "id": "Ncgjs88chzbP"
      },
      "outputs": [],
      "source": [
        "# Hago la prediccion\n",
        "y_predict = lg.predict(X_test_encoder)"
      ]
    },
    {
      "cell_type": "code",
      "source": [
        "y_predict"
      ],
      "metadata": {
        "colab": {
          "base_uri": "https://localhost:8080/"
        },
        "id": "1vCRpS7uxzhj",
        "outputId": "886e116a-2ed4-4ea4-dc1f-b63c4fe96bf3"
      },
      "execution_count": 31,
      "outputs": [
        {
          "output_type": "execute_result",
          "data": {
            "text/plain": [
              "array([1, 0, 0, ..., 1, 1, 0])"
            ]
          },
          "metadata": {},
          "execution_count": 31
        }
      ]
    },
    {
      "cell_type": "markdown",
      "metadata": {
        "id": "jinxRLqAtkYl"
      },
      "source": [
        "### *Vista de comparacion de prediccion vs testeo*"
      ]
    },
    {
      "cell_type": "code",
      "execution_count": 28,
      "metadata": {
        "colab": {
          "base_uri": "https://localhost:8080/",
          "height": 347
        },
        "id": "gbW1ZJgXtkYl",
        "outputId": "5c84c557-05fa-4d68-ece9-426adcec0cfc"
      },
      "outputs": [
        {
          "output_type": "execute_result",
          "data": {
            "text/plain": [
              "          sex comp_type home_office desig res_allo  men_fat_score  pred  \\\n",
              "10727  Female   Service          No   2.0      5.0            6.3     0   \n",
              "3612   Female   Service         Yes   2.0      3.0            4.7     0   \n",
              "2885   Female   Product         Yes   1.0      1.0            1.8     0   \n",
              "3573     Male   Product          No   3.0      6.0            6.4     1   \n",
              "2820   Female   Product         Yes   2.0      3.0            3.5     0   \n",
              "5639   Female   Service          No   1.0      3.0            6.5     0   \n",
              "7806   Female   Service         Yes   2.0      3.0            6.1     0   \n",
              "6788     Male   Product         Yes   2.0      4.0            4.3     0   \n",
              "13475  Female   Service          No   2.0      4.0            5.0     0   \n",
              "21399  Female   Service          No   4.0      9.0            9.9     1   \n",
              "\n",
              "       target  \n",
              "10727       1  \n",
              "3612        0  \n",
              "2885        0  \n",
              "3573        1  \n",
              "2820        0  \n",
              "5639        0  \n",
              "7806        0  \n",
              "6788        0  \n",
              "13475       0  \n",
              "21399       1  "
            ],
            "text/html": [
              "\n",
              "  <div id=\"df-ad4abd7d-980c-468b-99e3-b17319b992e4\">\n",
              "    <div class=\"colab-df-container\">\n",
              "      <div>\n",
              "<style scoped>\n",
              "    .dataframe tbody tr th:only-of-type {\n",
              "        vertical-align: middle;\n",
              "    }\n",
              "\n",
              "    .dataframe tbody tr th {\n",
              "        vertical-align: top;\n",
              "    }\n",
              "\n",
              "    .dataframe thead th {\n",
              "        text-align: right;\n",
              "    }\n",
              "</style>\n",
              "<table border=\"1\" class=\"dataframe\">\n",
              "  <thead>\n",
              "    <tr style=\"text-align: right;\">\n",
              "      <th></th>\n",
              "      <th>sex</th>\n",
              "      <th>comp_type</th>\n",
              "      <th>home_office</th>\n",
              "      <th>desig</th>\n",
              "      <th>res_allo</th>\n",
              "      <th>men_fat_score</th>\n",
              "      <th>pred</th>\n",
              "      <th>target</th>\n",
              "    </tr>\n",
              "  </thead>\n",
              "  <tbody>\n",
              "    <tr>\n",
              "      <th>10727</th>\n",
              "      <td>Female</td>\n",
              "      <td>Service</td>\n",
              "      <td>No</td>\n",
              "      <td>2.0</td>\n",
              "      <td>5.0</td>\n",
              "      <td>6.3</td>\n",
              "      <td>0</td>\n",
              "      <td>1</td>\n",
              "    </tr>\n",
              "    <tr>\n",
              "      <th>3612</th>\n",
              "      <td>Female</td>\n",
              "      <td>Service</td>\n",
              "      <td>Yes</td>\n",
              "      <td>2.0</td>\n",
              "      <td>3.0</td>\n",
              "      <td>4.7</td>\n",
              "      <td>0</td>\n",
              "      <td>0</td>\n",
              "    </tr>\n",
              "    <tr>\n",
              "      <th>2885</th>\n",
              "      <td>Female</td>\n",
              "      <td>Product</td>\n",
              "      <td>Yes</td>\n",
              "      <td>1.0</td>\n",
              "      <td>1.0</td>\n",
              "      <td>1.8</td>\n",
              "      <td>0</td>\n",
              "      <td>0</td>\n",
              "    </tr>\n",
              "    <tr>\n",
              "      <th>3573</th>\n",
              "      <td>Male</td>\n",
              "      <td>Product</td>\n",
              "      <td>No</td>\n",
              "      <td>3.0</td>\n",
              "      <td>6.0</td>\n",
              "      <td>6.4</td>\n",
              "      <td>1</td>\n",
              "      <td>1</td>\n",
              "    </tr>\n",
              "    <tr>\n",
              "      <th>2820</th>\n",
              "      <td>Female</td>\n",
              "      <td>Product</td>\n",
              "      <td>Yes</td>\n",
              "      <td>2.0</td>\n",
              "      <td>3.0</td>\n",
              "      <td>3.5</td>\n",
              "      <td>0</td>\n",
              "      <td>0</td>\n",
              "    </tr>\n",
              "    <tr>\n",
              "      <th>5639</th>\n",
              "      <td>Female</td>\n",
              "      <td>Service</td>\n",
              "      <td>No</td>\n",
              "      <td>1.0</td>\n",
              "      <td>3.0</td>\n",
              "      <td>6.5</td>\n",
              "      <td>0</td>\n",
              "      <td>0</td>\n",
              "    </tr>\n",
              "    <tr>\n",
              "      <th>7806</th>\n",
              "      <td>Female</td>\n",
              "      <td>Service</td>\n",
              "      <td>Yes</td>\n",
              "      <td>2.0</td>\n",
              "      <td>3.0</td>\n",
              "      <td>6.1</td>\n",
              "      <td>0</td>\n",
              "      <td>0</td>\n",
              "    </tr>\n",
              "    <tr>\n",
              "      <th>6788</th>\n",
              "      <td>Male</td>\n",
              "      <td>Product</td>\n",
              "      <td>Yes</td>\n",
              "      <td>2.0</td>\n",
              "      <td>4.0</td>\n",
              "      <td>4.3</td>\n",
              "      <td>0</td>\n",
              "      <td>0</td>\n",
              "    </tr>\n",
              "    <tr>\n",
              "      <th>13475</th>\n",
              "      <td>Female</td>\n",
              "      <td>Service</td>\n",
              "      <td>No</td>\n",
              "      <td>2.0</td>\n",
              "      <td>4.0</td>\n",
              "      <td>5.0</td>\n",
              "      <td>0</td>\n",
              "      <td>0</td>\n",
              "    </tr>\n",
              "    <tr>\n",
              "      <th>21399</th>\n",
              "      <td>Female</td>\n",
              "      <td>Service</td>\n",
              "      <td>No</td>\n",
              "      <td>4.0</td>\n",
              "      <td>9.0</td>\n",
              "      <td>9.9</td>\n",
              "      <td>1</td>\n",
              "      <td>1</td>\n",
              "    </tr>\n",
              "  </tbody>\n",
              "</table>\n",
              "</div>\n",
              "      <button class=\"colab-df-convert\" onclick=\"convertToInteractive('df-ad4abd7d-980c-468b-99e3-b17319b992e4')\"\n",
              "              title=\"Convert this dataframe to an interactive table.\"\n",
              "              style=\"display:none;\">\n",
              "        \n",
              "  <svg xmlns=\"http://www.w3.org/2000/svg\" height=\"24px\"viewBox=\"0 0 24 24\"\n",
              "       width=\"24px\">\n",
              "    <path d=\"M0 0h24v24H0V0z\" fill=\"none\"/>\n",
              "    <path d=\"M18.56 5.44l.94 2.06.94-2.06 2.06-.94-2.06-.94-.94-2.06-.94 2.06-2.06.94zm-11 1L8.5 8.5l.94-2.06 2.06-.94-2.06-.94L8.5 2.5l-.94 2.06-2.06.94zm10 10l.94 2.06.94-2.06 2.06-.94-2.06-.94-.94-2.06-.94 2.06-2.06.94z\"/><path d=\"M17.41 7.96l-1.37-1.37c-.4-.4-.92-.59-1.43-.59-.52 0-1.04.2-1.43.59L10.3 9.45l-7.72 7.72c-.78.78-.78 2.05 0 2.83L4 21.41c.39.39.9.59 1.41.59.51 0 1.02-.2 1.41-.59l7.78-7.78 2.81-2.81c.8-.78.8-2.07 0-2.86zM5.41 20L4 18.59l7.72-7.72 1.47 1.35L5.41 20z\"/>\n",
              "  </svg>\n",
              "      </button>\n",
              "      \n",
              "  <style>\n",
              "    .colab-df-container {\n",
              "      display:flex;\n",
              "      flex-wrap:wrap;\n",
              "      gap: 12px;\n",
              "    }\n",
              "\n",
              "    .colab-df-convert {\n",
              "      background-color: #E8F0FE;\n",
              "      border: none;\n",
              "      border-radius: 50%;\n",
              "      cursor: pointer;\n",
              "      display: none;\n",
              "      fill: #1967D2;\n",
              "      height: 32px;\n",
              "      padding: 0 0 0 0;\n",
              "      width: 32px;\n",
              "    }\n",
              "\n",
              "    .colab-df-convert:hover {\n",
              "      background-color: #E2EBFA;\n",
              "      box-shadow: 0px 1px 2px rgba(60, 64, 67, 0.3), 0px 1px 3px 1px rgba(60, 64, 67, 0.15);\n",
              "      fill: #174EA6;\n",
              "    }\n",
              "\n",
              "    [theme=dark] .colab-df-convert {\n",
              "      background-color: #3B4455;\n",
              "      fill: #D2E3FC;\n",
              "    }\n",
              "\n",
              "    [theme=dark] .colab-df-convert:hover {\n",
              "      background-color: #434B5C;\n",
              "      box-shadow: 0px 1px 3px 1px rgba(0, 0, 0, 0.15);\n",
              "      filter: drop-shadow(0px 1px 2px rgba(0, 0, 0, 0.3));\n",
              "      fill: #FFFFFF;\n",
              "    }\n",
              "  </style>\n",
              "\n",
              "      <script>\n",
              "        const buttonEl =\n",
              "          document.querySelector('#df-ad4abd7d-980c-468b-99e3-b17319b992e4 button.colab-df-convert');\n",
              "        buttonEl.style.display =\n",
              "          google.colab.kernel.accessAllowed ? 'block' : 'none';\n",
              "\n",
              "        async function convertToInteractive(key) {\n",
              "          const element = document.querySelector('#df-ad4abd7d-980c-468b-99e3-b17319b992e4');\n",
              "          const dataTable =\n",
              "            await google.colab.kernel.invokeFunction('convertToInteractive',\n",
              "                                                     [key], {});\n",
              "          if (!dataTable) return;\n",
              "\n",
              "          const docLinkHtml = 'Like what you see? Visit the ' +\n",
              "            '<a target=\"_blank\" href=https://colab.research.google.com/notebooks/data_table.ipynb>data table notebook</a>'\n",
              "            + ' to learn more about interactive tables.';\n",
              "          element.innerHTML = '';\n",
              "          dataTable['output_type'] = 'display_data';\n",
              "          await google.colab.output.renderOutput(dataTable, element);\n",
              "          const docLink = document.createElement('div');\n",
              "          docLink.innerHTML = docLinkHtml;\n",
              "          element.appendChild(docLink);\n",
              "        }\n",
              "      </script>\n",
              "    </div>\n",
              "  </div>\n",
              "  "
            ]
          },
          "metadata": {},
          "execution_count": 28
        }
      ],
      "source": [
        "X_test['pred'] = y_predict\n",
        "X_test['target'] = y_test\n",
        "X_test.sample(10)"
      ]
    },
    {
      "cell_type": "markdown",
      "metadata": {
        "id": "Cx5QMQ8xtkYl"
      },
      "source": [
        "### *Metricas R2*"
      ]
    },
    {
      "cell_type": "code",
      "execution_count": 29,
      "metadata": {
        "id": "K-OSt7VohzbQ",
        "outputId": "25faf094-12e9-456f-c55b-f4f682260cc5",
        "colab": {
          "base_uri": "https://localhost:8080/"
        }
      },
      "outputs": [
        {
          "output_type": "stream",
          "name": "stdout",
          "text": [
            "% de aciertos para el entrenamiento: 0.8632137093675555\n",
            "% de aciertos para la prediccion: 0.8601398601398601\n"
          ]
        }
      ],
      "source": [
        "# Accuracy para Train y Test\n",
        "lg_train_r2 = lg.score(X_train_encoder,y_train)\n",
        "lg_test_r2 = lg.score(X_test_encoder,y_test)\n",
        "\n",
        "# Calculo para el accuracy de Train\n",
        "print(f'% de aciertos para el entrenamiento: {lg_train_r2}')\n",
        "\n",
        "# Calculo para el accuracy de Test\n",
        "print(f'% de aciertos para la prediccion: {lg_test_r2}')"
      ]
    },
    {
      "cell_type": "markdown",
      "metadata": {
        "id": "v95iMwDBtkYm"
      },
      "source": [
        "### *Matriz de confusion*"
      ]
    },
    {
      "cell_type": "code",
      "execution_count": 30,
      "metadata": {
        "colab": {
          "base_uri": "https://localhost:8080/",
          "height": 296
        },
        "id": "Ixqk-ZSXtkYm",
        "outputId": "004494a9-f2ed-4a06-9df6-56b7f4fe15d3"
      },
      "outputs": [
        {
          "output_type": "execute_result",
          "data": {
            "text/plain": [
              "<sklearn.metrics._plot.confusion_matrix.ConfusionMatrixDisplay at 0x7fc284586f50>"
            ]
          },
          "metadata": {},
          "execution_count": 30
        },
        {
          "output_type": "display_data",
          "data": {
            "text/plain": [
              "<Figure size 432x288 with 2 Axes>"
            ],
            "image/png": "[encoded data removed]"
          },
          "metadata": {
            "needs_background": "light"
          }
        }
      ],
      "source": [
        "lg_confusion_matriz = confusion_matrix(y_test,y_predict)\n",
        "plot_confusion_matrix(lg, X_test_encoder, y_test)"
      ]
    },
    {
      "cell_type": "markdown",
      "metadata": {
        "id": "cd6w9iOztkYm"
      },
      "source": [
        "### *Metricas de clasificacion*"
      ]
    },
    {
      "cell_type": "code",
      "execution_count": 33,
      "metadata": {
        "colab": {
          "base_uri": "https://localhost:8080/"
        },
        "id": "7qa20-TGtkYm",
        "outputId": "dce5c152-4d28-4876-e892-ec318f471022"
      },
      "outputs": [
        {
          "output_type": "stream",
          "name": "stdout",
          "text": [
            "              precision    recall  f1-score   support\n",
            "\n",
            "           0       0.89      0.92      0.91      4163\n",
            "           1       0.75      0.68      0.71      1414\n",
            "\n",
            "    accuracy                           0.86      5577\n",
            "   macro avg       0.82      0.80      0.81      5577\n",
            "weighted avg       0.86      0.86      0.86      5577\n",
            "\n"
          ]
        }
      ],
      "source": [
        "lg_clasification_report = classification_report(y_test,y_predict)\n",
        "print(lg_clasification_report)"
      ]
    },
    {
      "cell_type": "markdown",
      "metadata": {
        "id": "H-ZcGEMjtkYm"
      },
      "source": [
        "### *Vista de features mas importantes*"
      ]
    },
    {
      "cell_type": "code",
      "execution_count": 34,
      "metadata": {
        "id": "JX_ZV3ylhzbQ",
        "outputId": "e95f83eb-5c0d-4ab7-f753-283d688778fd",
        "colab": {
          "base_uri": "https://localhost:8080/",
          "height": 544
        }
      },
      "outputs": [
        {
          "output_type": "display_data",
          "data": {
            "text/plain": [
              "<Figure size 1440x576 with 1 Axes>"
            ],
            "image/png": "[encoded data removed]"
          },
          "metadata": {
            "needs_background": "light"
          }
        }
      ],
      "source": [
        "# Grafico las features mas importantes\n",
        "df_features_importance = pd.DataFrame({\n",
        "    'Feature':list(lg.feature_names_in_),\n",
        "    'Importance':list(lg.coef_[0])\n",
        "})\n",
        "\n",
        "# print(df_features_importance)\n",
        "\n",
        "plt.figure(figsize=(20,8))\n",
        "sns.barplot(\n",
        "    df_features_importance.Feature,\n",
        "    df_features_importance.Importance,\n",
        "    orient='v'\n",
        ")\n",
        "plt.title('Vista de las features importantes')\n",
        "plt.xticks(rotation=45)\n",
        "plt.xlabel('Features')\n",
        "plt.ylabel('Porcentaje de importancia')\n",
        "plt.show()"
      ]
    },
    {
      "cell_type": "code",
      "source": [
        "import math\n",
        "\n",
        "feature_importance = pd.DataFrame(lg.feature_names_in_, columns = [\"feature\"])\n",
        "feature_importance[\"importance\"] = pow(math.e, lg.coef_[0])\n",
        "feature_importance = feature_importance.sort_values(by = [\"importance\"], ascending=False)\n",
        " \n",
        "from sklearn.linear_model import LogisticRegression\n",
        "plt.figure(figsize=(20,5),dpi=180)\n",
        "ax = feature_importance.plot.barh(x='feature', y='importance',figsize=(10,8))\n",
        "plt.show()"
      ],
      "metadata": {
        "colab": {
          "base_uri": "https://localhost:8080/",
          "height": 501
        },
        "id": "6DLIPjg0yu8H",
        "outputId": "b26a1f66-c8ae-48e3-f7b6-18db1523f066"
      },
      "execution_count": 40,
      "outputs": [
        {
          "output_type": "display_data",
          "data": {
            "text/plain": [
              "<Figure size 3600x900 with 0 Axes>"
            ]
          },
          "metadata": {}
        },
        {
          "output_type": "display_data",
          "data": {
            "text/plain": [
              "<Figure size 720x576 with 1 Axes>"
            ],
            "image/png": "[encoded data removed]"
          },
          "metadata": {
            "needs_background": "light"
          }
        }
      ]
    },
    {
      "cell_type": "markdown",
      "metadata": {
        "id": "v5T9HMS_tkYn"
      },
      "source": [
        "# Aplicacion Modelo de Random Forest\n",
        "\n",
        "### *Random Forest es un tipo de Ensamble en Machine Learning en donde combinaremos diversos árboles de decisión.*\n",
        "\n",
        "### *También llamados métodos combinados, intentan ayudar a mejorar el rendimiento de los modelos de Machine Learning. Este es un proceso mediante el cual se construyen estratégicamente varios modelos de ML para resolver un problema particular.*\n",
        "\n"
      ]
    },
    {
      "cell_type": "markdown",
      "metadata": {
        "id": "7DFjTUjItkYn"
      },
      "source": [
        "### *Separacion de caracteristicas y target*"
      ]
    },
    {
      "cell_type": "code",
      "execution_count": null,
      "metadata": {
        "id": "glkNdnUptkYn"
      },
      "outputs": [],
      "source": [
        "# separo las features en X e y\n",
        "X = df.drop(['burn_rate_new','Burn Rate','Employee ID','Date of Joining'],axis=1)\n",
        "y = df[['burn_rate_new']]"
      ]
    },
    {
      "cell_type": "code",
      "execution_count": null,
      "metadata": {
        "id": "OmMCrqZ6tkYn"
      },
      "outputs": [],
      "source": [
        "# Separo el dataset en Train y Test, al no estar desbalanceado.\n",
        "X_train,X_test,y_train,y_test = train_test_split(\n",
        "    X,\n",
        "    y,\n",
        "    test_size=0.3,\n",
        "    random_state=42,\n",
        "    stratify=y\n",
        ")"
      ]
    },
    {
      "cell_type": "markdown",
      "metadata": {
        "id": "aEp-7_-stkYn"
      },
      "source": [
        "### *Transformar X_train*"
      ]
    },
    {
      "cell_type": "code",
      "execution_count": null,
      "metadata": {
        "id": "N9OS69vFtkYo"
      },
      "outputs": [],
      "source": [
        "X_train,X_train_encoder = transformacion(X_train)"
      ]
    },
    {
      "cell_type": "markdown",
      "metadata": {
        "id": "Y8_QNJqQtkYo"
      },
      "source": [
        "### *Creacion de modelo*"
      ]
    },
    {
      "cell_type": "code",
      "execution_count": null,
      "metadata": {
        "id": "PhKvZJaYtkYo"
      },
      "outputs": [],
      "source": [
        "# Todos los argumentos vienen por default, no se modifico ninguno.\n",
        "rf = RandomForestClassifier(\n",
        "        n_estimators=100,\n",
        "        criterion=\"gini\",\n",
        "        max_depth=None,\n",
        "        min_samples_split=2,\n",
        "        min_samples_leaf=1,\n",
        "        min_weight_fraction_leaf=0.0,\n",
        "        max_features=\"sqrt\",\n",
        "        max_leaf_nodes=None,\n",
        "        min_impurity_decrease=0.0,\n",
        "        bootstrap=True,\n",
        "        oob_score=False,\n",
        "        n_jobs=None,\n",
        "        random_state=None,\n",
        "        verbose=0,\n",
        "        warm_start=False,\n",
        "        class_weight=None,\n",
        "        ccp_alpha=0.0,\n",
        "        max_samples=None,\n",
        ")"
      ]
    },
    {
      "cell_type": "markdown",
      "metadata": {
        "id": "zb8XAArntkYo"
      },
      "source": [
        "### *Entrenamiento*"
      ]
    },
    {
      "cell_type": "code",
      "execution_count": null,
      "metadata": {
        "id": "htn6IW3ctkYo",
        "outputId": "1d4e573c-18e7-4316-840d-2b82f18995e3"
      },
      "outputs": [
        {
          "data": {
            "text/html": [
              "<style>#sk-container-id-2 {color: black;background-color: white;}#sk-container-id-2 pre{padding: 0;}#sk-container-id-2 div.sk-toggleable {background-color: white;}#sk-container-id-2 label.sk-toggleable__label {cursor: pointer;display: block;width: 100%;margin-bottom: 0;padding: 0.3em;box-sizing: border-box;text-align: center;}#sk-container-id-2 label.sk-toggleable__label-arrow:before {content: \"▸\";float: left;margin-right: 0.25em;color: #696969;}#sk-container-id-2 label.sk-toggleable__label-arrow:hover:before {color: black;}#sk-container-id-2 div.sk-estimator:hover label.sk-toggleable__label-arrow:before {color: black;}#sk-container-id-2 div.sk-toggleable__content {max-height: 0;max-width: 0;overflow: hidden;text-align: left;background-color: #f0f8ff;}#sk-container-id-2 div.sk-toggleable__content pre {margin: 0.2em;color: black;border-radius: 0.25em;background-color: #f0f8ff;}#sk-container-id-2 input.sk-toggleable__control:checked~div.sk-toggleable__content {max-height: 200px;max-width: 100%;overflow: auto;}#sk-container-id-2 input.sk-toggleable__control:checked~label.sk-toggleable__label-arrow:before {content: \"▾\";}#sk-container-id-2 div.sk-estimator input.sk-toggleable__control:checked~label.sk-toggleable__label {background-color: #d4ebff;}#sk-container-id-2 div.sk-label input.sk-toggleable__control:checked~label.sk-toggleable__label {background-color: #d4ebff;}#sk-container-id-2 input.sk-hidden--visually {border: 0;clip: rect(1px 1px 1px 1px);clip: rect(1px, 1px, 1px, 1px);height: 1px;margin: -1px;overflow: hidden;padding: 0;position: absolute;width: 1px;}#sk-container-id-2 div.sk-estimator {font-family: monospace;background-color: #f0f8ff;border: 1px dotted black;border-radius: 0.25em;box-sizing: border-box;margin-bottom: 0.5em;}#sk-container-id-2 div.sk-estimator:hover {background-color: #d4ebff;}#sk-container-id-2 div.sk-parallel-item::after {content: \"\";width: 100%;border-bottom: 1px solid gray;flex-grow: 1;}#sk-container-id-2 div.sk-label:hover label.sk-toggleable__label {background-color: #d4ebff;}#sk-container-id-2 div.sk-serial::before {content: \"\";position: absolute;border-left: 1px solid gray;box-sizing: border-box;top: 0;bottom: 0;left: 50%;z-index: 0;}#sk-container-id-2 div.sk-serial {display: flex;flex-direction: column;align-items: center;background-color: white;padding-right: 0.2em;padding-left: 0.2em;position: relative;}#sk-container-id-2 div.sk-item {position: relative;z-index: 1;}#sk-container-id-2 div.sk-parallel {display: flex;align-items: stretch;justify-content: center;background-color: white;position: relative;}#sk-container-id-2 div.sk-item::before, #sk-container-id-2 div.sk-parallel-item::before {content: \"\";position: absolute;border-left: 1px solid gray;box-sizing: border-box;top: 0;bottom: 0;left: 50%;z-index: -1;}#sk-container-id-2 div.sk-parallel-item {display: flex;flex-direction: column;z-index: 1;position: relative;background-color: white;}#sk-container-id-2 div.sk-parallel-item:first-child::after {align-self: flex-end;width: 50%;}#sk-container-id-2 div.sk-parallel-item:last-child::after {align-self: flex-start;width: 50%;}#sk-container-id-2 div.sk-parallel-item:only-child::after {width: 0;}#sk-container-id-2 div.sk-dashed-wrapped {border: 1px dashed gray;margin: 0 0.4em 0.5em 0.4em;box-sizing: border-box;padding-bottom: 0.4em;background-color: white;}#sk-container-id-2 div.sk-label label {font-family: monospace;font-weight: bold;display: inline-block;line-height: 1.2em;}#sk-container-id-2 div.sk-label-container {text-align: center;}#sk-container-id-2 div.sk-container {/* jupyter's `normalize.less` sets `[hidden] { display: none; }` but bootstrap.min.css set `[hidden] { display: none !important; }` so we also need the `!important` here to be able to override the default hidden behavior on the sphinx rendered scikit-learn.org. See: https://github.com/scikit-learn/scikit-learn/issues/21755 */display: inline-block !important;position: relative;}#sk-container-id-2 div.sk-text-repr-fallback {display: none;}</style><div id=\"sk-container-id-2\" class=\"sk-top-container\"><div class=\"sk-text-repr-fallback\"><pre>RandomForestClassifier()</pre><b>In a Jupyter environment, please rerun this cell to show the HTML representation or trust the notebook. <br />On GitHub, the HTML representation is unable to render, please try loading this page with nbviewer.org.</b></div><div class=\"sk-container\" hidden><div class=\"sk-item\"><div class=\"sk-estimator sk-toggleable\"><input class=\"sk-toggleable__control sk-hidden--visually\" id=\"sk-estimator-id-2\" type=\"checkbox\" checked><label for=\"sk-estimator-id-2\" class=\"sk-toggleable__label sk-toggleable__label-arrow\">RandomForestClassifier</label><div class=\"sk-toggleable__content\"><pre>RandomForestClassifier()</pre></div></div></div></div></div>"
            ],
            "text/plain": [
              "RandomForestClassifier()"
            ]
          },
          "execution_count": 25,
          "metadata": {},
          "output_type": "execute_result"
        }
      ],
      "source": [
        "# Entreno el modelo\n",
        "rf.fit(X_train_encoder,y_train)"
      ]
    },
    {
      "cell_type": "markdown",
      "metadata": {
        "id": "29kdsxgJtkYo"
      },
      "source": [
        "### *Transformar X_test*"
      ]
    },
    {
      "cell_type": "code",
      "execution_count": null,
      "metadata": {
        "id": "Pm05XiKvtkYp"
      },
      "outputs": [],
      "source": [
        "X_test,X_test_encoder = transformacion(X_test)"
      ]
    },
    {
      "cell_type": "markdown",
      "metadata": {
        "id": "wJRR_mHVtkYp"
      },
      "source": [
        "### *Prediccion*"
      ]
    },
    {
      "cell_type": "code",
      "execution_count": null,
      "metadata": {
        "id": "aD6A9B3PtkYp"
      },
      "outputs": [],
      "source": [
        "# Hago la prediccion\n",
        "y_predict = rf.predict(X_test_encoder)"
      ]
    },
    {
      "cell_type": "markdown",
      "metadata": {
        "id": "RNvl7aKbtkYp"
      },
      "source": [
        "### *Vista de comparacion de prediccion vs testeo*"
      ]
    },
    {
      "cell_type": "code",
      "execution_count": null,
      "metadata": {
        "id": "aoVcx0mStkYp",
        "outputId": "6ef60ab2-ccbf-4cc2-cfca-afec21c4e71c"
      },
      "outputs": [
        {
          "data": {
            "text/html": [
              "<div>\n",
              "<style scoped>\n",
              "    .dataframe tbody tr th:only-of-type {\n",
              "        vertical-align: middle;\n",
              "    }\n",
              "\n",
              "    .dataframe tbody tr th {\n",
              "        vertical-align: top;\n",
              "    }\n",
              "\n",
              "    .dataframe thead th {\n",
              "        text-align: right;\n",
              "    }\n",
              "</style>\n",
              "<table border=\"1\" class=\"dataframe\">\n",
              "  <thead>\n",
              "    <tr style=\"text-align: right;\">\n",
              "      <th></th>\n",
              "      <th>sex</th>\n",
              "      <th>comp_type</th>\n",
              "      <th>home_office</th>\n",
              "      <th>desig</th>\n",
              "      <th>res_allo</th>\n",
              "      <th>men_fat_score</th>\n",
              "      <th>pred</th>\n",
              "      <th>target</th>\n",
              "    </tr>\n",
              "  </thead>\n",
              "  <tbody>\n",
              "    <tr>\n",
              "      <th>19376</th>\n",
              "      <td>Female</td>\n",
              "      <td>Service</td>\n",
              "      <td>Yes</td>\n",
              "      <td>1.0</td>\n",
              "      <td>3.0</td>\n",
              "      <td>3.6</td>\n",
              "      <td>0</td>\n",
              "      <td>0</td>\n",
              "    </tr>\n",
              "    <tr>\n",
              "      <th>4449</th>\n",
              "      <td>Male</td>\n",
              "      <td>Product</td>\n",
              "      <td>Yes</td>\n",
              "      <td>2.0</td>\n",
              "      <td>4.0</td>\n",
              "      <td>5.3</td>\n",
              "      <td>0</td>\n",
              "      <td>0</td>\n",
              "    </tr>\n",
              "    <tr>\n",
              "      <th>5147</th>\n",
              "      <td>Female</td>\n",
              "      <td>Service</td>\n",
              "      <td>Yes</td>\n",
              "      <td>3.0</td>\n",
              "      <td>4.0</td>\n",
              "      <td>6.4</td>\n",
              "      <td>0</td>\n",
              "      <td>0</td>\n",
              "    </tr>\n",
              "    <tr>\n",
              "      <th>7268</th>\n",
              "      <td>Female</td>\n",
              "      <td>Service</td>\n",
              "      <td>Yes</td>\n",
              "      <td>3.0</td>\n",
              "      <td>7.0</td>\n",
              "      <td>6.9</td>\n",
              "      <td>1</td>\n",
              "      <td>0</td>\n",
              "    </tr>\n",
              "    <tr>\n",
              "      <th>10067</th>\n",
              "      <td>Female</td>\n",
              "      <td>Product</td>\n",
              "      <td>Yes</td>\n",
              "      <td>1.0</td>\n",
              "      <td>2.0</td>\n",
              "      <td>3.5</td>\n",
              "      <td>0</td>\n",
              "      <td>0</td>\n",
              "    </tr>\n",
              "    <tr>\n",
              "      <th>20723</th>\n",
              "      <td>Male</td>\n",
              "      <td>Service</td>\n",
              "      <td>No</td>\n",
              "      <td>3.0</td>\n",
              "      <td>6.0</td>\n",
              "      <td>8.3</td>\n",
              "      <td>1</td>\n",
              "      <td>1</td>\n",
              "    </tr>\n",
              "    <tr>\n",
              "      <th>2227</th>\n",
              "      <td>Female</td>\n",
              "      <td>Service</td>\n",
              "      <td>No</td>\n",
              "      <td>2.0</td>\n",
              "      <td>4.0</td>\n",
              "      <td>6.9</td>\n",
              "      <td>0</td>\n",
              "      <td>0</td>\n",
              "    </tr>\n",
              "    <tr>\n",
              "      <th>3185</th>\n",
              "      <td>Male</td>\n",
              "      <td>Product</td>\n",
              "      <td>Yes</td>\n",
              "      <td>0.0</td>\n",
              "      <td>2.0</td>\n",
              "      <td>2.9</td>\n",
              "      <td>0</td>\n",
              "      <td>0</td>\n",
              "    </tr>\n",
              "    <tr>\n",
              "      <th>8957</th>\n",
              "      <td>Female</td>\n",
              "      <td>Service</td>\n",
              "      <td>Yes</td>\n",
              "      <td>1.0</td>\n",
              "      <td>3.0</td>\n",
              "      <td>6.1</td>\n",
              "      <td>0</td>\n",
              "      <td>0</td>\n",
              "    </tr>\n",
              "    <tr>\n",
              "      <th>21226</th>\n",
              "      <td>Male</td>\n",
              "      <td>Product</td>\n",
              "      <td>No</td>\n",
              "      <td>2.0</td>\n",
              "      <td>5.0</td>\n",
              "      <td>7.3</td>\n",
              "      <td>0</td>\n",
              "      <td>0</td>\n",
              "    </tr>\n",
              "  </tbody>\n",
              "</table>\n",
              "</div>"
            ],
            "text/plain": [
              "          sex comp_type home_office desig res_allo  men_fat_score  pred  \\\n",
              "19376  Female   Service         Yes   1.0      3.0            3.6     0   \n",
              "4449     Male   Product         Yes   2.0      4.0            5.3     0   \n",
              "5147   Female   Service         Yes   3.0      4.0            6.4     0   \n",
              "7268   Female   Service         Yes   3.0      7.0            6.9     1   \n",
              "10067  Female   Product         Yes   1.0      2.0            3.5     0   \n",
              "20723    Male   Service          No   3.0      6.0            8.3     1   \n",
              "2227   Female   Service          No   2.0      4.0            6.9     0   \n",
              "3185     Male   Product         Yes   0.0      2.0            2.9     0   \n",
              "8957   Female   Service         Yes   1.0      3.0            6.1     0   \n",
              "21226    Male   Product          No   2.0      5.0            7.3     0   \n",
              "\n",
              "       target  \n",
              "19376       0  \n",
              "4449        0  \n",
              "5147        0  \n",
              "7268        0  \n",
              "10067       0  \n",
              "20723       1  \n",
              "2227        0  \n",
              "3185        0  \n",
              "8957        0  \n",
              "21226       0  "
            ]
          },
          "execution_count": 28,
          "metadata": {},
          "output_type": "execute_result"
        }
      ],
      "source": [
        "X_test['pred'] = y_predict\n",
        "X_test['target'] = y_test\n",
        "X_test.sample(10)"
      ]
    },
    {
      "cell_type": "markdown",
      "metadata": {
        "id": "EtyvMMjMtkYp"
      },
      "source": [
        "### *Metricas*"
      ]
    },
    {
      "cell_type": "code",
      "execution_count": null,
      "metadata": {
        "id": "8iPvClgbtkYp",
        "outputId": "24c13a38-bedb-4953-f80d-a1ae841b50eb"
      },
      "outputs": [
        {
          "name": "stdout",
          "output_type": "stream",
          "text": [
            "% de aciertos para el entrenamiento: 0.864520095289326\n",
            "% de aciertos para la prediccion: 0.8594226286533979\n"
          ]
        }
      ],
      "source": [
        "# Accuracy para Train y Test\n",
        "rf_train_r2 = rf.score(X_train_encoder,y_train)\n",
        "rf_test_r2 = rf.score(X_test_encoder,y_test)\n",
        "\n",
        "# Calculo para el accuracy de Train\n",
        "print(f'% de aciertos para el entrenamiento: {rf_train_r2}')\n",
        "\n",
        "# Calculo para el accuracy de Test\n",
        "print(f'% de aciertos para la prediccion: {rf_test_r2}')"
      ]
    },
    {
      "cell_type": "markdown",
      "metadata": {
        "id": "oZL22isgtkYq"
      },
      "source": [
        "### *Matriz de confusion*"
      ]
    },
    {
      "cell_type": "code",
      "execution_count": null,
      "metadata": {
        "id": "zQiD-NZFtkYq",
        "outputId": "af897a33-02f2-4fc2-d335-54a63c439998"
      },
      "outputs": [
        {
          "data": {
            "text/plain": [
              "<sklearn.metrics._plot.confusion_matrix.ConfusionMatrixDisplay at 0x29324083f10>"
            ]
          },
          "execution_count": 30,
          "metadata": {},
          "output_type": "execute_result"
        },
        {
          "data": {
            "image/png": "[encoded data removed]",
            "text/plain": [
              "<Figure size 432x288 with 2 Axes>"
            ]
          },
          "metadata": {
            "needs_background": "light"
          },
          "output_type": "display_data"
        }
      ],
      "source": [
        "rf_confusion_matriz = confusion_matrix(y_test,y_predict)\n",
        "plot_confusion_matrix(rf, X_test_encoder, y_test)"
      ]
    },
    {
      "cell_type": "markdown",
      "metadata": {
        "id": "YZ8cbFEStkYq"
      },
      "source": [
        "### *Metricas de clasificacion*"
      ]
    },
    {
      "cell_type": "code",
      "execution_count": null,
      "metadata": {
        "id": "jtLA8SsOtkYq",
        "outputId": "be45c7f9-bf0e-441b-fe51-0ae5851b0703"
      },
      "outputs": [
        {
          "name": "stdout",
          "output_type": "stream",
          "text": [
            "              precision    recall  f1-score   support\n",
            "\n",
            "           0       0.89      0.92      0.91      4163\n",
            "           1       0.75      0.67      0.71      1414\n",
            "\n",
            "    accuracy                           0.86      5577\n",
            "   macro avg       0.82      0.80      0.81      5577\n",
            "weighted avg       0.86      0.86      0.86      5577\n",
            "\n"
          ]
        }
      ],
      "source": [
        "rf_clasification_report = classification_report(y_test,y_predict)\n",
        "print(rf_clasification_report)"
      ]
    },
    {
      "cell_type": "markdown",
      "metadata": {
        "id": "O4Nof-t0tkYq"
      },
      "source": [
        "### *Vista de features mas importantes*"
      ]
    },
    {
      "cell_type": "code",
      "execution_count": null,
      "metadata": {
        "id": "8e3m77JXtkYq",
        "outputId": "47acdbeb-5cf7-408a-d6eb-daa4075604d6"
      },
      "outputs": [
        {
          "data": {
            "image/png": "[encoded data removed]",
            "text/plain": [
              "<Figure size 1440x576 with 1 Axes>"
            ]
          },
          "metadata": {
            "needs_background": "light"
          },
          "output_type": "display_data"
        }
      ],
      "source": [
        "# Grafico las features mas importantes\n",
        "df_features_importance = pd.DataFrame({\n",
        "    'Feature':list(rf.feature_names_in_),\n",
        "    'Importance':list(rf.feature_importances_)\n",
        "}).sort_values(by='Importance',ascending=False)\n",
        "\n",
        "# print(df_features_importance)\n",
        "\n",
        "plt.figure(figsize=(20,8))\n",
        "sns.barplot(\n",
        "    df_features_importance.Feature,\n",
        "    df_features_importance.Importance,\n",
        "    orient='v'\n",
        ")\n",
        "plt.title('Vista de las features importantes')\n",
        "plt.xticks(rotation=45)\n",
        "plt.xlabel('Features')\n",
        "plt.ylabel('Porcentaje de importancia')\n",
        "plt.show()"
      ]
    },
    {
      "cell_type": "markdown",
      "metadata": {
        "id": "qm5GFqRjtkYr"
      },
      "source": [
        "# Algoritmo de clasificacion - Decision Tree Regressor\n",
        "\n",
        "### *Decision Tree es un algoritmo que se basa en arboles , los cuales tiene un sentido de pensamiento de if - else*\n",
        "\n",
        "### *La verdad como todo algoritmo se necesita que todos los datos sea numericos y ademas es un algortimo supervisado,  es decir que depende de una variable target, sea numerica o categorica*"
      ]
    },
    {
      "cell_type": "code",
      "execution_count": null,
      "metadata": {
        "id": "9trGY8-ptkYr"
      },
      "outputs": [],
      "source": [
        "# separo las features en X e y\n",
        "X = df.drop(['burn_rate_new','Burn Rate','Employee ID','Date of Joining'],axis=1)\n",
        "y = df[['burn_rate_new']]"
      ]
    },
    {
      "cell_type": "code",
      "execution_count": null,
      "metadata": {
        "id": "ZoWZWQBztkYr"
      },
      "outputs": [],
      "source": [
        "# Separo el dataset en Train y Test\n",
        "X_train,X_test,y_train,y_test = train_test_split(\n",
        "    X,\n",
        "    y,\n",
        "    test_size=0.3,\n",
        "    random_state=42,\n",
        "    stratify=None\n",
        ")"
      ]
    },
    {
      "cell_type": "code",
      "execution_count": null,
      "metadata": {
        "id": "uIu12j6WtkYr"
      },
      "outputs": [],
      "source": [
        "# Transformo X_train\n",
        "X_train,X_train_encoder = transformacion(X_train)"
      ]
    },
    {
      "cell_type": "code",
      "execution_count": null,
      "metadata": {
        "id": "_wWFQahYtkYr"
      },
      "outputs": [],
      "source": [
        "# Creo y entreno el modelo\n",
        "dtc = DecisionTreeClassifier(\n",
        "        criterion=\"gini\",\n",
        "        splitter=\"best\",\n",
        "        max_depth=None,\n",
        "        min_samples_split=2,\n",
        "        min_samples_leaf=1,\n",
        "        min_weight_fraction_leaf=0.0,\n",
        "        max_features=None,\n",
        "        random_state=None,\n",
        "        max_leaf_nodes=None,\n",
        "        min_impurity_decrease=0.0,\n",
        "        class_weight=None,\n",
        "        ccp_alpha=0.0,\n",
        ")"
      ]
    },
    {
      "cell_type": "code",
      "execution_count": null,
      "metadata": {
        "id": "GyLSZR08tkYs"
      },
      "outputs": [],
      "source": [
        "# Entreno\n",
        "entrenamiento = dtc.fit(X_train_encoder,y_train)"
      ]
    },
    {
      "cell_type": "code",
      "execution_count": null,
      "metadata": {
        "id": "6cZlHPVitkYs"
      },
      "outputs": [],
      "source": [
        "# Transformo X_test\n",
        "X_test,X_test_encoder = transformacion(X_test)"
      ]
    },
    {
      "cell_type": "code",
      "execution_count": null,
      "metadata": {
        "id": "eRbYJ_46tkYs"
      },
      "outputs": [],
      "source": [
        "# Hago la prediccion\n",
        "prediccion = dtc.predict(X_test_encoder)"
      ]
    },
    {
      "cell_type": "code",
      "execution_count": null,
      "metadata": {
        "id": "Uw-F8oDMtkYs",
        "outputId": "e27be2bc-d28d-454f-f33c-4ec026ab0cd7"
      },
      "outputs": [
        {
          "name": "stdout",
          "output_type": "stream",
          "text": [
            "% de aciertos para el entrenamiento: 0.8641358641358642\n",
            "% de aciertos para la prediccion: 0.8628294782140936\n"
          ]
        }
      ],
      "source": [
        "# Accuracy para Train y Test\n",
        "dtc_train_r2 = dtc.score(X_train_encoder,y_train)\n",
        "dtc_test_r2 = dtc.score(X_test_encoder,y_test)\n",
        "\n",
        "# Calculo para el accuracy de Train\n",
        "print(f'% de aciertos para el entrenamiento: {dtc_train_r2}')\n",
        "\n",
        "# Calculo para el accuracy de Test\n",
        "print(f'% de aciertos para la prediccion: {dtc_test_r2}')\n"
      ]
    },
    {
      "cell_type": "markdown",
      "metadata": {
        "id": "ubCCWFtbtkYs"
      },
      "source": [
        "### Matriz de confusion"
      ]
    },
    {
      "cell_type": "code",
      "execution_count": null,
      "metadata": {
        "id": "raByaKSttkYt",
        "outputId": "32ef74df-282c-4b9e-906b-02e6a9a7696c"
      },
      "outputs": [
        {
          "data": {
            "text/plain": [
              "<sklearn.metrics._plot.confusion_matrix.ConfusionMatrixDisplay at 0x29328218940>"
            ]
          },
          "execution_count": 41,
          "metadata": {},
          "output_type": "execute_result"
        },
        {
          "data": {
            "image/png": "[encoded data removed]",
            "text/plain": [
              "<Figure size 432x288 with 2 Axes>"
            ]
          },
          "metadata": {
            "needs_background": "light"
          },
          "output_type": "display_data"
        }
      ],
      "source": [
        "dtc_confusion_matriz = confusion_matrix(y_test,y_predict)\n",
        "plot_confusion_matrix(dtc, X_test_encoder, y_test)"
      ]
    },
    {
      "cell_type": "markdown",
      "metadata": {
        "id": "uAKaKzUVtkYt"
      },
      "source": [
        "### Metricas de clasificacion"
      ]
    },
    {
      "cell_type": "code",
      "execution_count": null,
      "metadata": {
        "id": "bCGdspIVtkYt",
        "outputId": "c9397484-40c5-4b3d-e860-f76793789ede"
      },
      "outputs": [
        {
          "name": "stdout",
          "output_type": "stream",
          "text": [
            "              precision    recall  f1-score   support\n",
            "\n",
            "           0       0.75      0.77      0.76      4201\n",
            "           1       0.24      0.22      0.23      1376\n",
            "\n",
            "    accuracy                           0.63      5577\n",
            "   macro avg       0.50      0.50      0.50      5577\n",
            "weighted avg       0.63      0.63      0.63      5577\n",
            "\n"
          ]
        }
      ],
      "source": [
        "dtc_clasification_report = classification_report(y_test,y_predict)\n",
        "print(dtc_clasification_report)"
      ]
    },
    {
      "cell_type": "markdown",
      "metadata": {
        "id": "QOqmzrhStkYt"
      },
      "source": [
        "### Features mas importantes"
      ]
    },
    {
      "cell_type": "code",
      "execution_count": null,
      "metadata": {
        "id": "1Vjzg1lutkYt",
        "outputId": "82ca4e31-880e-44d9-ac3b-f48733c7420d"
      },
      "outputs": [
        {
          "data": {
            "image/png": "[encoded data removed]",
            "text/plain": [
              "<Figure size 1440x576 with 1 Axes>"
            ]
          },
          "metadata": {
            "needs_background": "light"
          },
          "output_type": "display_data"
        }
      ],
      "source": [
        "# Grafico las features mas importantes\n",
        "importances = dtc.feature_importances_\n",
        "columnas = dtc.feature_names_in_\n",
        "plt.figure(figsize=(20,8))\n",
        "sns.barplot(columnas,importances)\n",
        "plt.title('Importancia de cada feature')\n",
        "plt.xticks(rotation=45)\n",
        "plt.show()"
      ]
    },
    {
      "cell_type": "markdown",
      "metadata": {
        "id": "IFTNAv_0tkYt"
      },
      "source": [
        "# Matriz de confusion y R2 para cada Algoritmo"
      ]
    },
    {
      "cell_type": "code",
      "execution_count": null,
      "metadata": {
        "id": "_aILsIFstkYu",
        "outputId": "98898b12-7e8b-43b7-e029-8962c48b872d"
      },
      "outputs": [
        {
          "data": {
            "image/png": "[encoded data removed]",
            "text/plain": [
              "<Figure size 1440x360 with 6 Axes>"
            ]
          },
          "metadata": {
            "needs_background": "light"
          },
          "output_type": "display_data"
        }
      ],
      "source": [
        "fig, axes = plt.subplots(nrows=1,ncols=3,figsize=(20,5))\n",
        "\n",
        "plot_confusion_matrix(dtc,X_test_encoder,y_predict,ax=axes[0]);\n",
        "axes[0].set_title(f'Decision tree R2: {round(dtc_test_r2,6)}')\n",
        "\n",
        "plot_confusion_matrix(rf,X_test_encoder,y_predict,ax=axes[1]);\n",
        "axes[1].set_title(f'Random Forest R2: {round(rf_train_r2,6)}')\n",
        "\n",
        "plot_confusion_matrix(lg,X_test_encoder,y_predict,ax=axes[2]);\n",
        "axes[2].set_title(f'Logistic Regression R2:{round(lg_train_r2,6)}')\n",
        "\n",
        "fig.show()"
      ]
    }
  ],
  "metadata": {
    "colab": {
      "collapsed_sections": [],
      "name": "ComparacionAlgoritmosClasificacion.ipynb",
      "provenance": []
    },
    "kernelspec": {
      "display_name": "Python 3.9.7 64-bit",
      "language": "python",
      "name": "python3"
    },
    "language_info": {
      "codemirror_mode": {
        "name": "ipython",
        "version": 3
      },
      "file_extension": ".py",
      "mimetype": "text/x-python",
      "name": "python",
      "nbconvert_exporter": "python",
      "pygments_lexer": "ipython3",
      "version": "3.9.7"
    },
    "orig_nbformat": 4,
    "vscode": {
      "interpreter": {
        "hash": "d5541ea63b3e0eec686519111bbc27c05e46464b7cfe1f7c0192638d11c7f99a"
      }
    }
  },
  "nbformat": 4,
  "nbformat_minor": 0
}